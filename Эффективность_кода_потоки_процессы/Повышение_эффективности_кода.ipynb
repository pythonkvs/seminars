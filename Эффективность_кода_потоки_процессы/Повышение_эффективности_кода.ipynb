{
  "nbformat": 4,
  "nbformat_minor": 0,
  "metadata": {
    "celltoolbar": "Slideshow",
    "kernelspec": {
      "display_name": "Python 3",
      "language": "python",
      "name": "python3"
    },
    "language_info": {
      "codemirror_mode": {
        "name": "ipython",
        "version": 3
      },
      "file_extension": ".py",
      "mimetype": "text/x-python",
      "name": "python",
      "nbconvert_exporter": "python",
      "pygments_lexer": "ipython3",
      "version": "3.7.3"
    },
    "colab": {
      "name": "Повышение_эффективности_кода.ipynb",
      "provenance": [],
      "include_colab_link": true
    }
  },
  "cells": [
    {
      "cell_type": "markdown",
      "metadata": {
        "id": "view-in-github",
        "colab_type": "text"
      },
      "source": [
        "<a href=\"https://colab.research.google.com/github/pythonkvs/seminars/blob/main/%D0%AD%D1%84%D1%84%D0%B5%D0%BA%D1%82%D0%B8%D0%B2%D0%BD%D0%BE%D1%81%D1%82%D1%8C_%D0%BA%D0%BE%D0%B4%D0%B0_%D0%BF%D0%BE%D1%82%D0%BE%D0%BA%D0%B8_%D0%BF%D1%80%D0%BE%D1%86%D0%B5%D1%81%D1%81%D1%8B/MelLain_mipt_python_%D0%BF%D0%BE%D0%B2%D1%8B%D1%88%D0%B5%D0%BD%D0%B8%D0%B5_%D1%8D%D1%84%D1%84%D0%B5%D0%BA%D1%82%D0%B8%D0%B2%D0%BD%D0%BE%D1%81%D1%82%D0%B8_%D0%BA%D0%BE%D0%B4%D0%B0.ipynb\" target=\"_parent\"><img src=\"https://colab.research.google.com/assets/colab-badge.svg\" alt=\"Open In Colab\"/></a>"
      ]
    },
    {
      "cell_type": "markdown",
      "metadata": {
        "id": "ihuTIb76xiQV"
      },
      "source": [
        "https://github.com/MelLain/mipt-python  \n",
        "https://github.com/MelLain/mipt-python/blob/spring-2021/lectures/08-efficiency.ipynb  \n",
        "https://www.youtube.com/watch?v=w3fnI2IHXzU  \n",
        "https://www.youtube.com/watch?v=77B2-Pk1fls\n",
        "\n"
      ]
    },
    {
      "cell_type": "code",
      "metadata": {
        "id": "9hVwdm6qliqe"
      },
      "source": [
        "import warnings\n",
        "warnings.filterwarnings('ignore')"
      ],
      "execution_count": 1,
      "outputs": []
    },
    {
      "cell_type": "markdown",
      "metadata": {
        "id": "8NEolJL5liqh"
      },
      "source": [
        "### `Производительность Python`\n",
        "\n",
        "- Быстродействие кода на Python существенно уступает коду, написанному на компилируемых языках<br><br>\n",
        "- Но Python очень удобен и популярен, поэтому сделано много попыток его ускорения<br><br>\n",
        "- Популярен подход с написанием основного кода на C/C++/CUDA и предоставлением пользователю удобного интерфейса к нему в Python (numpy, pycuda, библиотеки для глубинного обучения)<br><br>\n",
        "- Однако часто хочется получать эффективный код прямо в Python"
      ]
    },
    {
      "cell_type": "markdown",
      "metadata": {
        "id": "CEAxlS_cliqi"
      },
      "source": [
        "### `Возможные методы повышения производительности`\n",
        "\n",
        "- Многопоточность и многопроцессорность\n",
        "- Альтернативные реализации Python: Pypy, Jython, Iron Python\n",
        "- Библиотека Numba\n",
        "- Расширение Cython\n",
        "- Фреймворки Hadoop/Spark"
      ]
    },
    {
      "cell_type": "markdown",
      "metadata": {
        "id": "Q2LV1ebzliq-"
      },
      "source": [
        "### `Pypy Python`\n",
        "\n",
        "- Реализация интерпретатора Python, написанная на фреймворке RPython (синтаксис аналогичен Python)<br><br>\n",
        "- Использует just-in-time (JIT) компиляцию:\n",
        "    - при запуске код анализируется, наиболее часто используемые фрагменты (как циклы) переводятся в машинный код\n",
        "    - в таком виде они оптимизируются\n",
        "    - при выполнении исходные фрагменты заменяются на оптимизированные<br><br>\n",
        "- В ряде случаев JIT позволяет в разы ускорить выполнение кода на Python, как правило, код должен выполняться длительное время<br><br>\n",
        "- Цена использования JIT - более высокое потребление памяти в сложных и долго работающих процессах<br><br>\n",
        "- PyPy поддерживает все конструкции соответствующей версии языка Python, но работает только с частью библиотек и C-расширений<br><br>\n",
        "- JIT - не компиляция, т.е. получить на выходе исполняемый бинарный файл не получится"
      ]
    },
    {
      "cell_type": "markdown",
      "metadata": {
        "id": "d3QE9XX0liq_"
      },
      "source": [
        "### `Библиотека Numba`\n",
        "\n",
        "- Инструмент для компиляции части кода в LLVM, переводит часть кода на Python и NumPy в машинный код<br><br>\n",
        "- Далее эти фрагменты кода выполняются на CPU (или GPU) минуя интерпретатор<br><br>\n",
        "- Охватывает не весь язык, но может помочь в каких-то высоконагруженных секциях кода, скорость получается сопоставимой с реализацией на C/C++<br><br>\n",
        "- Numba использует JIT для ускорения отдельных функций в коде<br><br>\n",
        "- Библитека представлена набором декораторов и позволяет\n",
        "    - оставаться в рамках синтаксиса Python\n",
        "    - работать с его стандартным интерпретатором CPython<br><br>\n",
        "- Все, что нужно - поставить библиотеку и правильно расставить декораторы"
      ]
    },
    {
      "cell_type": "markdown",
      "metadata": {
        "id": "dGL1YKQaliq_"
      },
      "source": [
        "### `Поддерживаемые возможности Python и NumPy`\n",
        "\n",
        "- Ссылки на актуальные версии для [Python](https://numba.pydata.org/numba-doc/dev/reference/pysupported.html) и [NumPy](https://numba.pydata.org/numba-doc/dev/reference/numpysupported.html)\n",
        "\n",
        "Основные поддерживаемые или частично поддерживаемые Numba возможности Python:\n",
        "\n",
        "- условные операторы\n",
        "- операторы циклов\n",
        "- генераторы\n",
        "- исключения\n",
        "- менеджеры контекстов\n",
        "- функции (\\*\\*kwargs не поддерживается)\n",
        "- передача функций в качестве аргументов\n",
        "\n",
        "Большинство стандартных типов поддерживается, строки тоже, хотя часть их методов реализуется не очень эффективно"
      ]
    },
    {
      "cell_type": "markdown",
      "metadata": {
        "id": "reXenab4liq_"
      },
      "source": [
        "### `Использование Numba`\n",
        "\n",
        "__Декораторы функций для их ускорения__:\n",
        "- `@jit` - Numba ускоряет все, что поддерживается до первой неподдерживаемой операции, после весь код будет выполняться интерпретатором (даже поддерживаемый)\n",
        "- `@njit`(или `@jit(nopython=True)`) - Numba будет сообщать об ошибке при работе с неподдерживаемым кодом (по возможности его стоит переписать)<br><br>\n",
        "- Из ускоренных функций допускается вызов только ускоренных функций\n",
        "- Ускоренные функции можно вызывать из любых функций"
      ]
    },
    {
      "cell_type": "code",
      "metadata": {
        "id": "OWIi8uMnliq_"
      },
      "source": [
        "def timed(method):\n",
        "    import time\n",
        "    def __timed(*args, **kw):\n",
        "        time_start = time.time()\n",
        "        result = method(*args, **kw)\n",
        "        time_end = time.time()\n",
        "        \n",
        "        print('{}  {:.3f} ms'.format(method.__name__, (time_end - time_start) * 1000))\n",
        "        return result\n",
        "\n",
        "    return __timed"
      ],
      "execution_count": 2,
      "outputs": []
    },
    {
      "cell_type": "markdown",
      "metadata": {
        "id": "ftbo7AArlirA"
      },
      "source": [
        "### `Пример использования Numba`"
      ]
    },
    {
      "cell_type": "code",
      "metadata": {
        "id": "pix8INh5lirA"
      },
      "source": [
        "import numba\n",
        "import numpy as np\n",
        "from numba import jit\n",
        "\n",
        "@timed\n",
        "def dot_product(x, y):\n",
        "    np.dot(x, y)\n",
        "\n",
        "@timed\n",
        "@jit(cache=True, nopython=True)\n",
        "def dot_product_numba(x, y):\n",
        "    np.dot(x, y)"
      ],
      "execution_count": 3,
      "outputs": []
    },
    {
      "cell_type": "markdown",
      "metadata": {
        "id": "KFA17vPclirA"
      },
      "source": [
        "Запуск до и после кэширования кода:"
      ]
    },
    {
      "cell_type": "code",
      "metadata": {
        "id": "ofLMiDAqlirB",
        "colab": {
          "base_uri": "https://localhost:8080/"
        },
        "outputId": "26496e6c-fe65-47c2-cdde-94874bff88da"
      },
      "source": [
        "N = 1000\n",
        "x, y = np.random.random((N, N)), np.random.random((N, N))\n",
        "\n",
        "dot_product(x, y)\n",
        "dot_product_numba(x, y)\n",
        "dot_product_numba(x, y)"
      ],
      "execution_count": 4,
      "outputs": [
        {
          "output_type": "stream",
          "name": "stdout",
          "text": [
            "dot_product  71.656 ms\n",
            "dot_product_numba  624.678 ms\n",
            "dot_product_numba  62.572 ms\n"
          ]
        }
      ]
    },
    {
      "cell_type": "markdown",
      "metadata": {
        "id": "RSg2ZgXjlirB"
      },
      "source": [
        "Оптимизация не всегда оказывается действенной, в каждом случае нужно проверять"
      ]
    },
    {
      "cell_type": "markdown",
      "metadata": {
        "id": "rj_RmtSDlirB"
      },
      "source": [
        "### `Параллельные вычисления в Numba`\n",
        "\n",
        "- Параметр `parallel=True` декоратора приводит к поиску в коде функции участков кода, которые можно выполнить параллельно, и запускает их на нескольких ядрах ([ссылка на документацию](https://numba.pydata.org/numba-doc/dev/user/parallel.html))\n",
        "- Проще всего рассматривать на примере цикла"
      ]
    },
    {
      "cell_type": "markdown",
      "metadata": {
        "id": "THSC4bt-lirC"
      },
      "source": [
        "Обычный код с циклом:"
      ]
    },
    {
      "cell_type": "code",
      "metadata": {
        "id": "Fa2EZbwqlirC",
        "colab": {
          "base_uri": "https://localhost:8080/"
        },
        "outputId": "f45a6e6c-456a-4c25-f44f-fba594fd1bdb"
      },
      "source": [
        "@timed\n",
        "def two_d_array_reduction_prod(n):\n",
        "    result = 2 * np.ones((13, 17), np.int_)\n",
        "    tmp = 2 * np.ones_like(result)\n",
        "\n",
        "    for i in range(n):\n",
        "        result *= tmp\n",
        "\n",
        "two_d_array_reduction_prod(10000000)\n",
        "two_d_array_reduction_prod(10000000)"
      ],
      "execution_count": 60,
      "outputs": [
        {
          "output_type": "stream",
          "name": "stdout",
          "text": [
            "two_d_array_reduction_prod  15437.837 ms\n",
            "two_d_array_reduction_prod  15395.792 ms\n"
          ]
        }
      ]
    },
    {
      "cell_type": "markdown",
      "metadata": {
        "id": "VpJfQEH6lirC"
      },
      "source": [
        "### `Параллелельные вычисления в Numba`\n",
        "\n",
        "Обычный код с numba и код с numba и параллелизацией цикла (`prange`):"
      ]
    },
    {
      "cell_type": "code",
      "metadata": {
        "id": "MQHvsHU9lirC",
        "colab": {
          "base_uri": "https://localhost:8080/"
        },
        "outputId": "45d5720c-8a7c-49a8-af3a-92a71e9ee758"
      },
      "source": [
        "@timed\n",
        "@jit(cache=True, nopython=True)\n",
        "def two_d_array_reduction_prod_numba(n):\n",
        "    result = 2 * np.ones((13, 17), np.int_)\n",
        "    tmp = 2 * np.ones_like(result)\n",
        "\n",
        "    for i in range(n):\n",
        "        result *= tmp\n",
        "\n",
        "two_d_array_reduction_prod_numba(10000000)\n",
        "two_d_array_reduction_prod_numba(10000000)"
      ],
      "execution_count": 61,
      "outputs": [
        {
          "output_type": "stream",
          "name": "stdout",
          "text": [
            "two_d_array_reduction_prod_numba  1600.831 ms\n",
            "two_d_array_reduction_prod_numba  1248.804 ms\n"
          ]
        }
      ]
    },
    {
      "cell_type": "code",
      "metadata": {
        "id": "8vn4cVvllirD",
        "colab": {
          "base_uri": "https://localhost:8080/"
        },
        "outputId": "a1323fd4-94b3-402d-cfd5-79647072a1a5"
      },
      "source": [
        "@timed\n",
        "@jit(cache=True, nopython=True, parallel=True)\n",
        "def two_d_array_reduction_prod_numba_parallel(n):\n",
        "    result = 2 * np.ones((13, 17), np.int_)\n",
        "    tmp = 2 * np.ones_like(result)\n",
        "\n",
        "    for i in numba.prange(n):\n",
        "        result *= tmp\n",
        "\n",
        "two_d_array_reduction_prod_numba_parallel(10000000)\n",
        "two_d_array_reduction_prod_numba_parallel(10000000)"
      ],
      "execution_count": 62,
      "outputs": [
        {
          "output_type": "stream",
          "name": "stdout",
          "text": [
            "two_d_array_reduction_prod_numba_parallel  4396.893 ms\n",
            "two_d_array_reduction_prod_numba_parallel  1465.059 ms\n"
          ]
        }
      ]
    },
    {
      "cell_type": "markdown",
      "metadata": {
        "id": "xZabyUJ4lirD"
      },
      "source": [
        "### `Cython`\n",
        "\n",
        "- [Cython](https://cython.org/) - это расширение языка Python + статический компилятор<br><br>\n",
        "- Он сильно упрощает использование C-расширений в Python<br><br>\n",
        "- Библиотека позволяет:\n",
        "    - вызывать C/C++ код из любой точки кода на Python\n",
        "    - модифицировав синтаксис кода на Python, транслировать его в код на C\n",
        "    - выполнять код параллельно<br><br>\n",
        "\n",
        "- Для использования в Jupyter-ноутбуке нужно выполнить `%load_ext cython`<br><br>\n",
        "- Для использования Cython в блоке кода достаточно добавить перед ним `%%cython`<br><br>"
      ]
    },
    {
      "cell_type": "code",
      "metadata": {
        "id": "hJHIGC5elirD"
      },
      "source": [
        "%load_ext cython"
      ],
      "execution_count": 7,
      "outputs": []
    },
    {
      "cell_type": "markdown",
      "metadata": {
        "id": "QaaaOc9vlirE"
      },
      "source": [
        "### `Примеры объявления переменных`"
      ]
    },
    {
      "cell_type": "code",
      "metadata": {
        "id": "6Nwt3ZRglirE",
        "colab": {
          "base_uri": "https://localhost:8080/"
        },
        "outputId": "60de3c22-b682-4701-d35f-50bb5446f741"
      },
      "source": [
        "%%cython\n",
        "cdef int a = 1\n",
        "cdef float x = 0.5\n",
        "cdef double y = 63.4\n",
        "cdef char* s = 'str'\n",
        "cdef list names = [1, 'fdfs', 'i', 0.4]\n",
        "\n",
        "print(a, type(a))\n",
        "print(x, type(x))\n",
        "print(y, type(y))\n",
        "print(s, type(s))\n",
        "print(names, type(names))"
      ],
      "execution_count": 8,
      "outputs": [
        {
          "output_type": "stream",
          "name": "stdout",
          "text": [
            "1 <class 'int'>\n",
            "0.5 <class 'float'>\n",
            "63.4 <class 'float'>\n",
            "b'str' <class 'bytes'>\n",
            "[1, 'fdfs', 'i', 0.4] <class 'list'>\n"
          ]
        }
      ]
    },
    {
      "cell_type": "markdown",
      "metadata": {
        "id": "Z73RJfgvlirF"
      },
      "source": [
        "### `Cython в Jupyter Notebook`\n",
        "\n",
        "- Вызов ячейки в первый раз приведет к компиляции, выполнению кода и загрузке результата\n",
        "- Второй вызов без изменения кода [ничего не даст](https://stackoverflow.com/questions/60802385/why-jupyter-notebook-only-prints-the-cython-result-once) - Cython не хочет повторять уже сделанную работу\n",
        "- Повторное выполнение можно потребовать флагом `--force`:"
      ]
    },
    {
      "cell_type": "code",
      "metadata": {
        "id": "24jklD_VlirF",
        "colab": {
          "base_uri": "https://localhost:8080/"
        },
        "outputId": "86ba7348-89d2-441f-9bff-11ab0e018061"
      },
      "source": [
        "%%cython --force\n",
        "cdef int a = 0\n",
        "print(a)"
      ],
      "execution_count": 14,
      "outputs": [
        {
          "output_type": "stream",
          "name": "stdout",
          "text": [
            "0\n"
          ]
        }
      ]
    },
    {
      "cell_type": "markdown",
      "metadata": {
        "id": "E0fx1aTOlirF"
      },
      "source": [
        "- Правильный способ - разделить компиляцию и вызов, вынеся код в функцию:"
      ]
    },
    {
      "cell_type": "code",
      "metadata": {
        "id": "sp0gh0bSlirG"
      },
      "source": [
        "%%cython\n",
        "def cfunc():\n",
        "    cdef int a = 0\n",
        "    print(a)"
      ],
      "execution_count": 15,
      "outputs": []
    },
    {
      "cell_type": "code",
      "metadata": {
        "id": "6K9Ve_YhlirG",
        "colab": {
          "base_uri": "https://localhost:8080/"
        },
        "outputId": "9d0f680a-08d7-4380-ed2b-fedf13874968"
      },
      "source": [
        "cfunc()"
      ],
      "execution_count": 20,
      "outputs": [
        {
          "output_type": "stream",
          "name": "stdout",
          "text": [
            "0\n"
          ]
        }
      ]
    },
    {
      "cell_type": "markdown",
      "metadata": {
        "id": "0-8UAo6UlirG"
      },
      "source": [
        "### `Пример использования Cython`"
      ]
    },
    {
      "cell_type": "code",
      "metadata": {
        "id": "Po508NR2lirG",
        "colab": {
          "base_uri": "https://localhost:8080/"
        },
        "outputId": "2771a188-c1f9-4d5e-ee00-50530c459059"
      },
      "source": [
        "@timed\n",
        "def func(n):\n",
        "    res = 0\n",
        "    for _ in range(n):\n",
        "        res += 1\n",
        "    print(res)\n",
        "\n",
        "func(1000000000)"
      ],
      "execution_count": 21,
      "outputs": [
        {
          "output_type": "stream",
          "name": "stdout",
          "text": [
            "1000000000\n",
            "func  65816.977 ms\n"
          ]
        }
      ]
    },
    {
      "cell_type": "code",
      "metadata": {
        "id": "rg_qHVxglirH"
      },
      "source": [
        "%%cython\n",
        "def func_cython(n):\n",
        "    cdef long res = 0\n",
        "    for _ in range(n):\n",
        "        res += 1\n",
        "    print(res)"
      ],
      "execution_count": 22,
      "outputs": []
    },
    {
      "cell_type": "code",
      "metadata": {
        "id": "XeLfUlMSlirH",
        "colab": {
          "base_uri": "https://localhost:8080/"
        },
        "outputId": "8f75f5dc-8ceb-4011-e502-94aab530f556"
      },
      "source": [
        "@timed\n",
        "def wrapper(n):\n",
        "    func_cython(n)\n",
        "\n",
        "wrapper(1000000000)"
      ],
      "execution_count": 23,
      "outputs": [
        {
          "output_type": "stream",
          "name": "stdout",
          "text": [
            "1000000000\n",
            "wrapper  15214.643 ms\n"
          ]
        }
      ]
    },
    {
      "cell_type": "markdown",
      "metadata": {
        "id": "Fq0d0q1dlirH"
      },
      "source": [
        "### `Работа с функциями`\n",
        "\n",
        "- В коде на Cython можно объявлять функции с помощью оператора `def`, которые можно вызывать из Python\n",
        "- Также есть возможность объявления с помощью `cdef`, такие функции допустимо использовать только в коде CPython\n",
        "- Наконец, можно использовать `cpdef` - такие функции могут вызываться отовсюду, в т.ч. из кода на C"
      ]
    },
    {
      "cell_type": "code",
      "metadata": {
        "id": "VRUThyvJlirH"
      },
      "source": [
        "%%cython\n",
        "\n",
        "cdef double cdef_func(double x, int y):\n",
        "    return x + y\n",
        "\n",
        "cpdef double cpdef_func(double x, int y):\n",
        "    return x + y\n",
        "\n",
        "def def_func(x, y):\n",
        "    return cdef_func(x, y)"
      ],
      "execution_count": 28,
      "outputs": []
    },
    {
      "cell_type": "code",
      "metadata": {
        "id": "qqx6uH6NlirI",
        "colab": {
          "base_uri": "https://localhost:8080/"
        },
        "outputId": "78466e3a-3a59-46bf-c78e-00b795921ed5"
      },
      "source": [
        "print(def_func(10, 3))\n",
        "print(cpdef_func(10, 3))"
      ],
      "execution_count": 32,
      "outputs": [
        {
          "output_type": "stream",
          "name": "stdout",
          "text": [
            "13.0\n",
            "13.0\n"
          ]
        }
      ]
    },
    {
      "cell_type": "code",
      "metadata": {
        "id": "xS2Y5Uzs6hg0"
      },
      "source": [
        "# %%cython\n",
        "# cdef double cdef_func(double x, int y):\n",
        "#     return x + y\n",
        "print(cdef_func(10, 3))"
      ],
      "execution_count": null,
      "outputs": []
    },
    {
      "cell_type": "markdown",
      "metadata": {
        "id": "3VUhwjxklirI"
      },
      "source": [
        "### `Код из C в Cython`"
      ]
    },
    {
      "cell_type": "code",
      "metadata": {
        "id": "B2XMb_BwlirI"
      },
      "source": [
        "%%cython\n",
        "\n",
        "cdef extern from \"math.h\":\n",
        "    cpdef double sin(double x)"
      ],
      "execution_count": 34,
      "outputs": []
    },
    {
      "cell_type": "code",
      "metadata": {
        "id": "RiAZrkmhlirI",
        "colab": {
          "base_uri": "https://localhost:8080/"
        },
        "outputId": "34c5c9ac-d3f5-45ef-dbcc-c7aede4ebfac"
      },
      "source": [
        "sin(10)"
      ],
      "execution_count": 35,
      "outputs": [
        {
          "output_type": "execute_result",
          "data": {
            "text/plain": [
              "-0.5440211108893698"
            ]
          },
          "metadata": {},
          "execution_count": 35
        }
      ]
    },
    {
      "cell_type": "code",
      "metadata": {
        "id": "yh2nKxnqlirJ"
      },
      "source": [
        "%%cython\n",
        "from libc.stdlib cimport atoi\n",
        "\n",
        "cpdef parse_charptr_to_py_int(char* s):\n",
        "    return atoi(s)"
      ],
      "execution_count": 36,
      "outputs": []
    },
    {
      "cell_type": "code",
      "metadata": {
        "id": "hAIPioIhlirK",
        "colab": {
          "base_uri": "https://localhost:8080/"
        },
        "outputId": "41b2d1bb-8d53-475e-8156-254c5db17f95"
      },
      "source": [
        "parse_charptr_to_py_int(b'10')"
      ],
      "execution_count": 37,
      "outputs": [
        {
          "output_type": "execute_result",
          "data": {
            "text/plain": [
              "10"
            ]
          },
          "metadata": {},
          "execution_count": 37
        }
      ]
    },
    {
      "cell_type": "markdown",
      "metadata": {
        "id": "qfaR_qT-liqj"
      },
      "source": [
        "### `Процесс и поток`\n",
        "\n",
        "- __Процесс__ - это единица приложения, работающая в операционной системе, имеет собственную изолированную память\n",
        "- __Поток__ - вычислительная единица внутри процесса, работает в памяти процесса, имеет собственный код для выполнения<br><br>\n",
        "- В процессе может быть >= 1 потока\n",
        "- Одно ядро процессора в моменте времени может выполнять код одного потока\n",
        "- Если потоков много, а ядро одно, то оно будет переключаться между ними, создавая иллюзию параллельности для пользователя\n",
        "- Если и потоков, и ядер много, то потоки могут действительно выполняться параллельно\n",
        "- Аналогичным образом работает параллелизм между процессами"
      ]
    },
    {
      "cell_type": "markdown",
      "metadata": {
        "id": "csj6U-hBliqk"
      },
      "source": [
        "### `Создание потока в Python`\n",
        "\n",
        "- Для работы с потоками в Python есть стандартный модуль threading\n",
        "- Основным классом является `Thread` (поток)"
      ]
    },
    {
      "cell_type": "code",
      "metadata": {
        "id": "5aKucsGuliql"
      },
      "source": [
        "import threading"
      ],
      "execution_count": 38,
      "outputs": []
    },
    {
      "cell_type": "markdown",
      "metadata": {
        "id": "NtRIQ2FSliqm"
      },
      "source": [
        "Функциональное создание потока:"
      ]
    },
    {
      "cell_type": "code",
      "metadata": {
        "id": "DtxlgoW7liqo",
        "colab": {
          "base_uri": "https://localhost:8080/"
        },
        "outputId": "b43f0625-b82f-40dd-8399-d17d4e06c89a"
      },
      "source": [
        "def thread_function(x):\n",
        "    print(x ** 3)\n",
        "\n",
        "thread = threading.Thread(target=thread_function, args=(10, ))\n",
        "thread.start()"
      ],
      "execution_count": 39,
      "outputs": [
        {
          "output_type": "stream",
          "name": "stdout",
          "text": [
            "1000\n"
          ]
        }
      ]
    },
    {
      "cell_type": "markdown",
      "metadata": {
        "id": "Vr9qi9vlliqp"
      },
      "source": [
        "- Потоку передается функция, которую он должен выполнить, и аргументы\n",
        "- После запуска `start` он будет выполняться до выхода из функции или ошибки\n",
        "- Запустить его второй раз не получится (RuntimeError)"
      ]
    },
    {
      "cell_type": "markdown",
      "metadata": {
        "id": "P_wj8hT1liqq"
      },
      "source": [
        "### `Создание потока в Python`\n",
        "\n",
        "- Поток также можно описать в виде класс-наследника `Thread`\n",
        "- Класс должен определять метод `run`"
      ]
    },
    {
      "cell_type": "code",
      "metadata": {
        "id": "XH58Pmnqliqr",
        "colab": {
          "base_uri": "https://localhost:8080/"
        },
        "outputId": "43471122-957d-4e5c-caeb-721bd0505503"
      },
      "source": [
        "class MyThread(threading.Thread):\n",
        "    def __init__(self, x, power):\n",
        "        threading.Thread.__init__(self)\n",
        "        self.x = x\n",
        "        self.power = power\n",
        "\n",
        "    def thread_function(self):\n",
        "        print(self.x ** self.power)\n",
        "\n",
        "    def run(self):\n",
        "        self.thread_function()\n",
        "\n",
        "print_thread = MyThread(x=10, power=3)\n",
        "print_thread.start()"
      ],
      "execution_count": 40,
      "outputs": [
        {
          "output_type": "stream",
          "name": "stdout",
          "text": [
            "1000\n"
          ]
        }
      ]
    },
    {
      "cell_type": "markdown",
      "metadata": {
        "id": "lkAur1nJliqs"
      },
      "source": [
        "### `Потоки-демоны`\n",
        "\n",
        "- Потоки могут выполняться в обычном и фоновом (daemon) режимах\n",
        "- Потоки-демоны используются для выполнения фоновых задач (отправка ping-ов, очистка мусора), они имеют смысл только в процессе существования основного потока\n",
        "- При своем завершении процесс будет дожидаться окончания работы обычных потоков\n",
        "- Потоки-демоны будут автоматически уничтожены при завершении процесса\n",
        "- Такие потоки можно создавать и дальше за ними не следить, обычные же потоки нужно явно завершать<br><br>\n",
        "\n",
        "Создание потока в режиме демона:"
      ]
    },
    {
      "cell_type": "code",
      "metadata": {
        "id": "enf3U60lliqx"
      },
      "source": [
        "thread = threading.Thread(target=thread_function, args=(10, ), daemon=True)"
      ],
      "execution_count": 41,
      "outputs": []
    },
    {
      "cell_type": "markdown",
      "metadata": {
        "id": "YWukwymAliqy"
      },
      "source": [
        "### `Основные методы и атрибуты класса Thread`\n",
        "\n",
        "Методы:\n",
        "\n",
        "- `start` - запуск потока\n",
        "- `run` - выполняет код потока\n",
        "- `join` - блокирует вызывающий поток до завершения потока, у которого вызван `join`\n",
        "- `is_alive` - возвращает флаг незавершенности потока\n",
        "\n",
        "Атрибуты:\n",
        "- `name` - имя потока\n",
        "- `daemon` - флаг потоком фоновый или обычный\n",
        "- `ident` - идентификатор потока, пока не вызван `start` он `None`."
      ]
    },
    {
      "cell_type": "markdown",
      "metadata": {
        "id": "J94k-c2Iliqy"
      },
      "source": [
        "### `Пример запуска потока`"
      ]
    },
    {
      "cell_type": "code",
      "metadata": {
        "id": "25XlovxKliqz",
        "colab": {
          "base_uri": "https://localhost:8080/"
        },
        "outputId": "787ac761-61e9-4e82-a847-a7560064efde"
      },
      "source": [
        "import time\n",
        "\n",
        "def wait(s):\n",
        "    print('wait started')\n",
        "    time.sleep(s)\n",
        "    print('wait finished')\n",
        "\n",
        "thread = threading.Thread(target=wait, args=(10, ), name='Wait Thread')\n",
        "thread.start()\n",
        "\n",
        "print('Is alive: ', thread.is_alive())\n",
        "print('Is daemon: ', thread.daemon)\n",
        "print('Thread name: ', thread.name)\n",
        "print('Thread identificator: ', thread.ident)\n",
        "thread.join()\n",
        "print('Is alive: ', thread.is_alive())"
      ],
      "execution_count": 42,
      "outputs": [
        {
          "output_type": "stream",
          "name": "stdout",
          "text": [
            "wait started\n",
            "Is alive:  True\n",
            "Is daemon:  False\n",
            "Thread name:  Wait Thread\n",
            "Thread identificator:  139823703316224\n",
            "wait finished\n",
            "Is alive:  False\n"
          ]
        }
      ]
    },
    {
      "cell_type": "markdown",
      "metadata": {
        "id": "HK-n6JH2liqz"
      },
      "source": [
        "### `Доступ к разделяемым ресурсам`\n",
        "\n",
        "- Потоки не имеют своей памяти и все работают с одной памятью родительского процесса\n",
        "- Порядок выполнения потоков недетерминирован, в многопоточной среде несколько потоков могут одновременно получить доступ к одному ресурсу\n",
        "- Без надлежащего контроля это может привести к ошибкам и падению процесса\n",
        "- Потоки нельзя просто так останавливать извне, поэтому ограничения нужно наложить заранее, до запуска<br><br>\n",
        "\n",
        "- Для контроля за доступом к ресурсам есть несколько инструментов:\n",
        "    - Мьютекс (Mutex, Lock)\n",
        "    - Рекурсивный мьютекс (RLock)\n",
        "    - Семафор (Semaphore)\n",
        "    - Событие (Event)\n",
        "    - Условная переменная (Condition variable)\n",
        "    - Барьер (Barrier)"
      ]
    },
    {
      "cell_type": "markdown",
      "metadata": {
        "id": "IvwUhWofliq0"
      },
      "source": [
        "### `Простая блокировка Lock`\n",
        "\n",
        "- Mutex - это объект, который может в каждый момент времени быть занят не более чем одним потоком\n",
        "- Все потоки проверяют его на занятость и, если он занят, ожидают освобождения"
      ]
    },
    {
      "cell_type": "code",
      "metadata": {
        "id": "e8oiKVzGliq0"
      },
      "source": [
        "mutex = threading.Lock()\n",
        "\n",
        "def thread_safe_function():\n",
        "    mutex.acquire()\n",
        "    # Critical section\n",
        "    mutex.release()"
      ],
      "execution_count": 43,
      "outputs": []
    },
    {
      "cell_type": "markdown",
      "metadata": {
        "id": "T4tiYedtliq1"
      },
      "source": [
        "Для избежания взаимных блокировок (deadlocks) освобождение mutex нужно делать всегда, в т.ч. при ошибках и исключениях"
      ]
    },
    {
      "cell_type": "markdown",
      "metadata": {
        "id": "Hi-FWI1Gliq1"
      },
      "source": [
        "### `Пример использования Mutex`\n",
        "\n",
        "Сравним потокобезопасный и непотокобезопасный коды в задаче инкремента разделяемого ресурса ([источник](https://geekbrains.ru/posts/python_multithreading_pt2))"
      ]
    },
    {
      "cell_type": "code",
      "metadata": {
        "id": "kZ_2K8zfliq1"
      },
      "source": [
        "protected_resource, unprotected_resource = 0, 0\n",
        "mutex = threading.Lock()\n",
        "NUM = 100000"
      ],
      "execution_count": 44,
      "outputs": []
    },
    {
      "cell_type": "code",
      "metadata": {
        "id": "jTHcobbgliq2"
      },
      "source": [
        "def safe_plus():\n",
        "    global protected_resource\n",
        "    for i in range(NUM):\n",
        "        with mutex:\n",
        "            protected_resource += 1\n",
        "\n",
        "def risky_plus():\n",
        "    global unprotected_resource\n",
        "    for i in range(NUM):\n",
        "        unprotected_resource += 1\n",
        "\n",
        "def safe_minus():\n",
        "    global protected_resource\n",
        "    for i in range(NUM):\n",
        "        with mutex:\n",
        "            protected_resource -= 1\n",
        "\n",
        "def risky_minus():\n",
        "    global unprotected_resource\n",
        "    for i in range(NUM):\n",
        "        unprotected_resource -= 1"
      ],
      "execution_count": 45,
      "outputs": []
    },
    {
      "cell_type": "markdown",
      "metadata": {
        "id": "qSDaH8Ueliq2"
      },
      "source": [
        "### `Пример использования Mutex`"
      ]
    },
    {
      "cell_type": "code",
      "metadata": {
        "id": "XsSfsS9Fliq2",
        "colab": {
          "base_uri": "https://localhost:8080/"
        },
        "outputId": "859cfe32-63d8-4442-9370-f2dc72157f16"
      },
      "source": [
        "thread1 = threading.Thread(target=safe_plus)\n",
        "thread2 = threading.Thread(target=safe_minus)\n",
        "thread3 = threading.Thread(target=risky_plus)\n",
        "thread4 = threading.Thread(target=risky_minus)\n",
        "\n",
        "thread1.start(), thread2.start(), thread3.start(), thread4.start()\n",
        "thread1.join(), thread2.join(), thread3.join(), thread4.join()\n",
        "\n",
        "print (f'Threadsafe result: {protected_resource}')\n",
        "print (f'Non-threadsafe result: {unprotected_resource}')"
      ],
      "execution_count": 50,
      "outputs": [
        {
          "output_type": "stream",
          "name": "stdout",
          "text": [
            "Threadsafe result: 0\n",
            "Non-threadsafe result: -25301\n"
          ]
        }
      ]
    },
    {
      "cell_type": "markdown",
      "metadata": {
        "id": "EQ5gh9BUliq3"
      },
      "source": [
        "### `Прочие инструменты контроля доступа`\n",
        "\n",
        "- Рекурсивный мьютекс - такой же, как и обычный, но один поток может многократно входить в критическую секцию<br><br>\n",
        "- Семафор - дает доступ к ресурсу заданному числу потоков<br><br>\n",
        "- Событие - обертка типа Event вокруг других блокировок для блокирования по определенным событиям<br><br>\n",
        "- Условная переменная - блокирует ресурс до выполнения некоторого условия, о котором уведомляет один из потоков<br><br>\n",
        "- Барьер - создает точку синхронизации для заданного числа потоков, пока они все не дойдут до него, никто дальше не выполняется"
      ]
    },
    {
      "cell_type": "markdown",
      "metadata": {
        "id": "aEfTFK4wliq3"
      },
      "source": [
        "### `Проблемы с многопоточностью в Python`\n",
        "\n",
        "- Существует несколько реализаций Python, наиболее популярная (стандартная) - CPython\n",
        "- Исторически CPython был реализован с глобальной блокировкой потоков Global Interpreter Lock (GIL)\n",
        "\n",
        "Что такое GIL:\n",
        "- GIL - это блокировка, которая не позволяет в каждый момент времени выполняться не более чем одному потоку\n",
        "- Для этого через равные промежутки времени (100 тиков) интерпретатор усыпляет работающий поток и дает возможность поработать один промежуток какому-то иному потоку\n",
        "- Остановка происходит даже в том случае, если поток всего один\n",
        "\n",
        "Зачем нужен GIL:\n",
        "- Реализация менеджмента памяти и сборки мусора в CPython не является потокобезопасной\n",
        "- Без него C-расширения языка, которые активно используются, не смогут нормально работать\n",
        "- За счет отсутствия необходимости учета разных ссылок на объекты из разных потоков однопоточные приложения выполняются с GIL быстрее\n",
        "\n",
        "Где еще есть GIL:\n",
        "- В Jython и IronPython GIL нет\n",
        "- В PyPy есть\n",
        "- В Cython есть, но может выключаться на секцию кода"
      ]
    },
    {
      "cell_type": "markdown",
      "metadata": {
        "id": "ESJcnvhKliq3"
      },
      "source": [
        "### `К чему приводит наличие GIL`\n",
        "\n",
        "- Многопоточные приложения, ориентированные на использование вычислений на CPU (не I/O операций), не могут работать параллельно<br><br>\n",
        "- Вычисления не только не становятся быстрее, но и сильно замедляются при увеличении числа потоков, поскольку каждое переключение требует большого числа системных вызовов<br><br>\n",
        "- Замедление на многоядерном процессоре будет еще больше, чем на одноядерном, поскольку интерпретатор не синхронизирован с ОС (он хочет разместить все на одном ядре, а ОС пытается разложить потоки на разные ядра)<br><br>\n",
        "- В интерпретаторе нет своего расписания очереди потоков, используется расписание ОС, это приводит к проблемам при обработке сигналов"
      ]
    },
    {
      "cell_type": "markdown",
      "metadata": {
        "id": "WoY0JiG5liq4"
      },
      "source": [
        "### `Реакция на сигналы ОС`\n",
        "\n",
        "- В Python сигналы могут обрабатываться только в главном потоке<br><br>\n",
        "- При этом интерпретатор не может сам потребовать, чтобы на следующем промежутке включился главный поток<br><br>\n",
        "- Он пытается переключать потоки с GIL не раз в 100 тиков, а каждый тик<br><br>\n",
        "- В результате выполнение кода может замедлиться, и до перехода в главный поток Python не реагирует на сигналы<br><br>\n",
        "- Помимо этого, внутри одного тика интерпретатор невозможно прервать<br><br>\n",
        "- Тик длится не фиксированное время, а некоторый набор инструкций (по-умолчанию - 100 байткодов), в которые интерпретатор транслировал исходный код<br><br>"
      ]
    },
    {
      "cell_type": "markdown",
      "metadata": {
        "id": "HUrr6RGbliq4"
      },
      "source": [
        "### `Пример проблем с GIL`\n",
        "\n",
        "Однопоточный код:"
      ]
    },
    {
      "cell_type": "code",
      "metadata": {
        "id": "rR2QcLN9liq5",
        "colab": {
          "base_uri": "https://localhost:8080/"
        },
        "outputId": "e3cf0524-3d19-45f6-abbc-9e274d093f94"
      },
      "source": [
        "def func(i):\n",
        "    while i < 5e+7: i += 1\n",
        "\n",
        "ts = time.time()\n",
        "func(0)\n",
        "print(f'Elapsed time: {round(time.time() - ts, 2)}')"
      ],
      "execution_count": 51,
      "outputs": [
        {
          "output_type": "stream",
          "name": "stdout",
          "text": [
            "Elapsed time: 4.82\n"
          ]
        }
      ]
    },
    {
      "cell_type": "markdown",
      "metadata": {
        "id": "H1rVbCIzliq5"
      },
      "source": [
        "Многопоточный код:"
      ]
    },
    {
      "cell_type": "code",
      "metadata": {
        "id": "nx4XD6ETliq6",
        "colab": {
          "base_uri": "https://localhost:8080/"
        },
        "outputId": "811132f4-3fe9-4e39-9a8e-28d7c5768efe"
      },
      "source": [
        "ts = time.time()\n",
        "threads = []\n",
        "for _ in range(2):\n",
        "    thread = threading.Thread(target=func, args=(0, ))\n",
        "    thread.start()\n",
        "    threads.append(thread)\n",
        "\n",
        "for thread in threads:\n",
        "    thread.join()\n",
        "\n",
        "print(f'Elapsed time: {round(time.time() - ts, 2)}')"
      ],
      "execution_count": 52,
      "outputs": [
        {
          "output_type": "stream",
          "name": "stdout",
          "text": [
            "Elapsed time: 9.72\n"
          ]
        }
      ]
    },
    {
      "cell_type": "markdown",
      "metadata": {
        "id": "5vow_rIxliq6"
      },
      "source": [
        "### `Когда многопоточный код полезен`\n",
        "\n",
        "- Независимые и не интенсивные I/O-операции с файлами, запросами или БД, логгирование<br><br>\n",
        "    - время ожидание завершения работы системных вызовов, связанных с I/O-операциями, относительно велико\n",
        "    - поток, ожидающий этого, не меняет ничего в состоянии интерпретатора до выполнения следующего фрагмента кода\n",
        "    - значит на это время он может освободить GIL и дать другому потоку продолжить выполнение<br><br>\n",
        "\n",
        "- Отрисовка GUI\n",
        "\n",
        "Пример с логгированием:"
      ]
    },
    {
      "cell_type": "code",
      "metadata": {
        "id": "2YWzzdWfliq6",
        "colab": {
          "base_uri": "https://localhost:8080/"
        },
        "outputId": "ac353ecb-2434-4b6c-ce22-fe49b9f125be"
      },
      "source": [
        "flag = True\n",
        "def print_message():\n",
        "    while flag:\n",
        "        time.sleep(1)\n",
        "        print('I print this while func works')\n",
        "    \n",
        "log_thread = threading.Thread(target=print_message)\n",
        "log_thread.start()\n",
        "func(-5e+7)\n",
        "print('Finished')\n",
        "flag = False"
      ],
      "execution_count": 53,
      "outputs": [
        {
          "output_type": "stream",
          "name": "stdout",
          "text": [
            "I print this while func works\n",
            "I print this while func works\n",
            "I print this while func works\n",
            "I print this while func works\n",
            "I print this while func works\n",
            "I print this while func works\n",
            "I print this while func works\n",
            "Finished\n"
          ]
        }
      ]
    },
    {
      "cell_type": "markdown",
      "metadata": {
        "id": "2w5x7EKnliq7"
      },
      "source": [
        "### `Многопроцессорный параллелизм`\n",
        "\n",
        "- Процессы работают в собственных адресных пространствах и имеют каждый свои данные, в т.ч. и GIL в случае Python\n",
        "- Взаимодействие между ними можно организовать также, как и для любых других процессов: через файлы (в т.ч. вирутуальные) или обмен сообщениями (multiprocessing, MPI)<br><br>\n",
        "\n",
        "- У каждого процесса есть `pid`, который можно получить вызовом `os.getpid()`\n",
        "- Воспользуемся для примера модулем multiprocessing, все похоже на потоки:"
      ]
    },
    {
      "cell_type": "code",
      "metadata": {
        "id": "9cOkYXoGliq7",
        "colab": {
          "base_uri": "https://localhost:8080/"
        },
        "outputId": "0f4e8ac5-bc62-4f64-b3d5-9bbbe4cab01e"
      },
      "source": [
        "import os\n",
        "from multiprocessing import Process\n",
        "\n",
        "def func(number):\n",
        "    result = number ** 2\n",
        "    print(f'func was called by process id {os.getpid()} with number {number}')\n",
        "\n",
        "procs, numbers = [], [5, 10, 15, 20, 25]\n",
        "    \n",
        "for number in numbers:\n",
        "    proc = Process(target=func, args=(number,))\n",
        "    procs.append(proc)\n",
        "    proc.start()\n",
        "    \n",
        "for proc in procs:\n",
        "    proc.join()"
      ],
      "execution_count": 54,
      "outputs": [
        {
          "output_type": "stream",
          "name": "stdout",
          "text": [
            "func was called by process id 814 with number 5\n",
            "func was called by process id 817 with number 10\n",
            "func was called by process id 820 with number 15\n",
            "func was called by process id 821 with number 20\n",
            "func was called by process id 822 with number 25\n"
          ]
        }
      ]
    },
    {
      "cell_type": "markdown",
      "metadata": {
        "id": "RrTXcF92liq8"
      },
      "source": [
        "### `Блокировки для процессов`\n",
        "\n",
        "- `multiprocessing.Lock` реализован как объект семафора в ОС вне памяти процесса, и каждый процесс может получить к нему доступ и изменять его"
      ]
    },
    {
      "cell_type": "code",
      "metadata": {
        "id": "f9yF8bxDliq8",
        "colab": {
          "base_uri": "https://localhost:8080/"
        },
        "outputId": "b2aa6cad-f5d0-457c-c5a9-3970b92e6d83"
      },
      "source": [
        "from multiprocessing import Process, Lock\n",
        "\n",
        "def func(lock, num):\n",
        "    with lock:\n",
        "        print(num)\n",
        "\n",
        "lock = Lock()\n",
        "for num in range(10):\n",
        "    Process(target=func, args=(lock, num)).start()"
      ],
      "execution_count": 56,
      "outputs": [
        {
          "output_type": "stream",
          "name": "stdout",
          "text": [
            "0\n",
            "1\n",
            "3\n",
            "2\n",
            "4\n",
            "5\n",
            "7\n",
            "6\n",
            "8\n",
            "9\n"
          ]
        }
      ]
    },
    {
      "cell_type": "markdown",
      "metadata": {
        "id": "tYhXwqDnliq9"
      },
      "source": [
        "### `Совместный доступ к объектам`\n",
        "\n",
        "- Передавать параметры по ссылке бессмысленно - они копируются и сериализуются для передачи в подпроцесс\n",
        "- Тем не менее, можно пользоваться блоками разделяемой памяти в ОЗУ - `multiprocessing.shared_memory`\n",
        "- Это относительно низкоуровневый подход, на его основе реализованы более удобные `Value` и `Array`:"
      ]
    },
    {
      "cell_type": "code",
      "metadata": {
        "id": "l4X-5xswliq-",
        "colab": {
          "base_uri": "https://localhost:8080/"
        },
        "outputId": "3a0d04a6-922e-44d1-f09c-225312520467"
      },
      "source": [
        "from multiprocessing import Value, Array\n",
        "\n",
        "def func(number, array):\n",
        "    number.value = 10\n",
        "    for i in range(len(array)):\n",
        "        array[i] = -array[i]\n",
        "\n",
        "number = Value('d', 0.0)\n",
        "array = Array('i', range(10))\n",
        "\n",
        "p = Process(target=func, args=(number, array))\n",
        "p.start()\n",
        "p.join()\n",
        "\n",
        "print(number.value)\n",
        "print(array[:])"
      ],
      "execution_count": 57,
      "outputs": [
        {
          "output_type": "stream",
          "name": "stdout",
          "text": [
            "10.0\n",
            "[0, -1, -2, -3, -4, -5, -6, -7, -8, -9]\n"
          ]
        }
      ]
    },
    {
      "cell_type": "markdown",
      "metadata": {
        "id": "-HSUFMK1lirK"
      },
      "source": [
        "### `Фреймворки Hadoop и Spark`\n",
        "\n",
        "- Hadoop - это фреймворк для хранения, обработки и анализа больших массивов данных<br><br>\n",
        "- Может быть развернут и на ноутбуке, но по факту рассчитан на кластеры из большого числа машин<br><br>\n",
        "- В основе Hadoop лежит HDFS - распределенная файловая система с репликацией данных<br><br>\n",
        "- Допускается использование различных движков для обработки данных (MapReduce, Spark)<br><br>\n",
        "    - MapReduce как движок используется для работы с большими статическими данными на диске\n",
        "    - Spark работает с данными в оперативной памяти (MapReduce как парадигма вычислений тоже может использоваться)<br><br>\n",
        "- В экосистеме Hadoop есть SQL (Hive) и NoSQL (HBase) базы данных, системы обмена сообщениями (Kafka)<br><br>\n",
        "- Часто Spark и Hadoop используются вместе, но можно использовать и по-отдельности: Spark работает с другими системами управления (Mesos) и распределенными ФС (Cassandra, Amazon S3)<br><br>\n",
        "- С Hadoop и Spark можно работать из Python"
      ]
    },
    {
      "cell_type": "markdown",
      "metadata": {
        "id": "r36Z_bIilirK"
      },
      "source": [
        "### `Парадигма MapReduce`\n",
        "\n",
        "- Программа в парадигме MapReduce состоит из наборов процедур Map и Reduce и применяется к массиву данных<br><br>\n",
        "- Шаг Map вычисляется для каждого элемента данных независимо от прочих и возвращается с определенным ключом<br><br>\n",
        "- Шаг Reduce применяется к выходным элементам с определенными ключами и агрегирует их в итоговый элемент или набор элементов\n",
        "\n",
        "Простой пример - поиск максимального элемента:\n",
        "\n",
        "```\n",
        "data = [1, 8, 7, 3, 2, 0]\n",
        "parts = [1, 8, 7], [3, 2, 0]\n",
        "map(parts) = (8, 'key'), (3, 'key')\n",
        "reduce(map(parts)) = 8\n",
        "```\n",
        "\n",
        "- Некоторая аналогия есть с функциями `map` и `functools.reduce`"
      ]
    },
    {
      "cell_type": "markdown",
      "metadata": {
        "id": "sFVSoiVRlirL"
      },
      "source": [
        "### `Пример задачи на MapReduce`\n",
        "\n",
        "- Обычно задача на MapReduce сводится к описанию функций, выполняющих эти шаги, с определенными сигнатурами\n",
        "- Функция Map должна принимать на вход значение или набор значений, а возвращать значение или набор значений с ключами\n",
        "- Функция Reduce должна принимать на вход набор значений с заданным ключом, агрегировать их и выдавать одно или несколько результирующих значений\n",
        "\n",
        "__Пример__ - функция, делающая join двух списков по ключу:"
      ]
    },
    {
      "cell_type": "code",
      "metadata": {
        "id": "hCeLX3dWlirL"
      },
      "source": [
        "a = [('1', 'A'), ('2', 'B'), ('3', 'C'), ('4', 'D')]\n",
        "b = [('I', '1'), ('II', '2'), ('III', '3'), ('IV', '4')]"
      ],
      "execution_count": null,
      "outputs": []
    },
    {
      "cell_type": "code",
      "metadata": {
        "id": "-bDa1ZLzlirL"
      },
      "source": [
        "def mapper(x, key_index):\n",
        "    for e in x:\n",
        "        yield (e[key_index], e)"
      ],
      "execution_count": null,
      "outputs": []
    },
    {
      "cell_type": "code",
      "metadata": {
        "id": "QcMjvN7BlirL",
        "colab": {
          "base_uri": "https://localhost:8080/"
        },
        "outputId": "b2abc447-8c0b-494d-fe9a-f8803f787541"
      },
      "source": [
        "for e in mapper(a, key_index=0):\n",
        "    print(e, end='\\t')\n",
        "\n",
        "print()\n",
        "for e in mapper(b, key_index=1):\n",
        "    print(e, end='\\t')"
      ],
      "execution_count": null,
      "outputs": [
        {
          "output_type": "stream",
          "name": "stdout",
          "text": [
            "('1', ('1', 'A'))\t('2', ('2', 'B'))\t('3', ('3', 'C'))\t('4', ('4', 'D'))\t\n",
            "('1', ('I', '1'))\t('2', ('II', '2'))\t('3', ('III', '3'))\t('4', ('IV', '4'))\t"
          ]
        }
      ]
    },
    {
      "cell_type": "markdown",
      "metadata": {
        "id": "9TQGrM9GlirL"
      },
      "source": [
        "### `Пример задачи на MapReduce`\n",
        "\n",
        "__Пример__ - функция, делающая join двух списков по ключу:"
      ]
    },
    {
      "cell_type": "code",
      "metadata": {
        "id": "LcP4cBn0lirM",
        "colab": {
          "base_uri": "https://localhost:8080/"
        },
        "outputId": "fb1a44f2-7ef7-4705-cbb2-ae5f182e6a11"
      },
      "source": [
        "# Map step\n",
        "elements = list(sorted([e for e in mapper(a, 0)] + [e for e in mapper(b, 1)]))\n",
        "\n",
        "# Intermediate steps\n",
        "outputs = [elements[i: i + 2] for i in range(0, len(elements), 2)]\n",
        "print(outputs[0])"
      ],
      "execution_count": null,
      "outputs": [
        {
          "output_type": "stream",
          "name": "stdout",
          "text": [
            "[('1', ('1', 'A')), ('1', ('I', '1'))]\n"
          ]
        }
      ]
    },
    {
      "cell_type": "code",
      "metadata": {
        "id": "r4hoGysclirM",
        "colab": {
          "base_uri": "https://localhost:8080/"
        },
        "outputId": "65ff4d59-c46e-4ec0-f114-3bc5a2949944"
      },
      "source": [
        "def reducer(x):\n",
        "    return tuple([k for e in x for k in e[1]])\n",
        "\n",
        "# Reduce step\n",
        "[reducer(e) for e in outputs]"
      ],
      "execution_count": null,
      "outputs": [
        {
          "output_type": "execute_result",
          "data": {
            "text/plain": [
              "[('1', 'A', 'I', '1'),\n",
              " ('2', 'B', 'II', '2'),\n",
              " ('3', 'C', 'III', '3'),\n",
              " ('4', 'D', 'IV', '4')]"
            ]
          },
          "metadata": {},
          "execution_count": 41
        }
      ]
    },
    {
      "cell_type": "markdown",
      "metadata": {
        "id": "pBepb0b7lirM"
      },
      "source": [
        "### `Какие еще есть шаги MapReduce`\n",
        "\n",
        "На самом деле, помимо основных шагов есть неявные, но тоже важные:\n",
        "- Sorting - сортировки выходов Map по ключам<br><br>\n",
        "- Partitioning - комбинирование выходов Map по наборам ключей для сокращения числа Reduce-ов (по одному не на ключ, а на набор ключей)<br><br>\n",
        "- Shuffling - направляет выходы Map к соответствующим Reduce-ам<br><br>\n",
        "- Combining - делает предварительный Reduce локальных выходов Map (на этом вычислительном узле)<br><br>\n",
        "- Merging - сливает все выходы Map, пришедшие к данному Reducer-у с сохранением порядка сортировки"
      ]
    }
  ]
}
