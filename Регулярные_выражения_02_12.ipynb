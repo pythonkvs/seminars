{
  "nbformat": 4,
  "nbformat_minor": 0,
  "metadata": {
    "colab": {
      "name": "Регулярные_выражения_02_12.ipynb",
      "provenance": [],
      "collapsed_sections": [],
      "authorship_tag": "ABX9TyPcAiV9TbFzaLbDUs+4T9dZ",
      "include_colab_link": true
    },
    "kernelspec": {
      "name": "python3",
      "display_name": "Python 3"
    },
    "language_info": {
      "name": "python"
    }
  },
  "cells": [
    {
      "cell_type": "markdown",
      "metadata": {
        "id": "view-in-github",
        "colab_type": "text"
      },
      "source": [
        "<a href=\"https://colab.research.google.com/github/pythonkvs/seminars/blob/main/%D0%A0%D0%B5%D0%B3%D1%83%D0%BB%D1%8F%D1%80%D0%BD%D1%8B%D0%B5_%D0%B2%D1%8B%D1%80%D0%B0%D0%B6%D0%B5%D0%BD%D0%B8%D1%8F_02_12.ipynb\" target=\"_parent\"><img src=\"https://colab.research.google.com/assets/colab-badge.svg\" alt=\"Open In Colab\"/></a>"
      ]
    },
    {
      "cell_type": "markdown",
      "metadata": {
        "id": "VGDBE-3chtox"
      },
      "source": [
        "https://tproger.ru/translations/regular-expression-python/  \n",
        "https://www.analyticsvidhya.com/blog/2015/06/regular-expression-python/"
      ]
    },
    {
      "cell_type": "markdown",
      "metadata": {
        "id": "GNcKxA4598Ja"
      },
      "source": [
        "# Регулярные выражения"
      ]
    },
    {
      "cell_type": "markdown",
      "metadata": {
        "id": "gJ5FSvD2zmqd"
      },
      "source": [
        "Регулярные выражения (англ. regular expressions) — используемый в компьютерных программах, работающих с текстом, формальный язык поиска и осуществления манипуляций с подстроками в тексте, основанный на использовании метасимволов (символов-джокеров, англ. wildcard characters). Для поиска используется строка-образец (англ. pattern, по-русски её часто называют «шаблоном», «маской»), состоящая из символов и метасимволов и задающая правило поиска."
      ]
    },
    {
      "cell_type": "markdown",
      "metadata": {
        "id": "qXOA-5WDCba7"
      },
      "source": [
        "<table style=\"height: 384px; width: 100%;\" width=\"100%\">\n",
        "<tbody>\n",
        "<tr style=\"height: 30px;\">\n",
        "<th style=\"text-align: center; height: 30px;\" width=\"90\"><strong>Оператор</strong></th>\n",
        "<th style=\"text-align: center; height: 30px;\" width=\"680\"><strong>Описание</strong></th>\n",
        "</tr>\n",
        "<tr style=\"height: 30px;\">\n",
        "<td style=\"height: 30px;\" width=\"90\"><tt>.</tt></td>\n",
        "<td style=\"height: 30px;\" width=\"680\">Один любой символ, кроме новой строки <tt>\\n</tt>.</td>\n",
        "</tr>\n",
        "<tr style=\"height: 30px;\">\n",
        "<td style=\"height: 30px;\" width=\"90\"><tt>?</tt></td>\n",
        "<td style=\"height: 30px;\" width=\"680\">0 или 1 вхождение шаблона слева</td>\n",
        "</tr>\n",
        "<tr style=\"height: 30px;\">\n",
        "<td style=\"height: 30px;\" width=\"90\"><tt>+</tt></td>\n",
        "<td style=\"height: 30px;\" width=\"680\">1 и более вхождений шаблона слева</td>\n",
        "</tr>\n",
        "<tr style=\"height: 30px;\">\n",
        "<td style=\"height: 30px;\" width=\"90\"><tt>*</tt></td>\n",
        "<td style=\"height: 30px;\" width=\"680\">0 и более вхождений шаблона слева</td>\n",
        "</tr>\n",
        "<tr style=\"height: 30px;\">\n",
        "<td style=\"height: 30px;\" width=\"90\"><tt>\\w</tt></td>\n",
        "<td style=\"height: 30px;\" width=\"680\">Любая цифра или буква (<tt>\\W</tt> —&nbsp;все, кроме буквы или цифры)</td>\n",
        "</tr>\n",
        "<tr style=\"height: 30px;\">\n",
        "<td style=\"height: 30px;\" width=\"90\"><tt>\\d</tt></td>\n",
        "<td style=\"height: 30px;\" width=\"680\">Любая цифра [0-9] (<tt>\\D</tt> —&nbsp;все, кроме цифры)</td>\n",
        "</tr>\n",
        "<tr style=\"height: 30px;\">\n",
        "<td style=\"height: 30px;\" width=\"90\"><tt>\\s</tt></td>\n",
        "<td style=\"height: 30px;\" width=\"680\">Любой пробельный символ (<tt>\\S</tt> —&nbsp;любой непробельный символ)</td>\n",
        "</tr>\n",
        "<tr style=\"height: 30px;\">\n",
        "<td style=\"height: 30px;\" width=\"90\"><tt>\\b</tt></td>\n",
        "<td style=\"height: 30px;\" width=\"680\">Граница слова</td>\n",
        "</tr>\n",
        "<tr style=\"height: 30px;\">\n",
        "<td style=\"height: 30px;\" width=\"90\"><tt>[..]</tt></td>\n",
        "<td style=\"height: 30px;\" width=\"680\">Один из символов в скобках (<tt>[^..]</tt> —&nbsp;любой символ, кроме тех, что в скобках)</td>\n",
        "</tr>\n",
        "<tr style=\"height: 30px;\">\n",
        "<td style=\"height: 30px;\" width=\"90\"><tt>\\</tt></td>\n",
        "<td style=\"height: 30px;\" width=\"680\">Экранирование специальных символов (<tt>\\.</tt> означает точку или <tt>\\+</tt> —&nbsp;знак «плюс»)</td>\n",
        "</tr>\n",
        "<tr style=\"height: 30px;\">\n",
        "<td style=\"height: 30px;\" width=\"90\"><tt>^</tt> и <tt>$</tt></td>\n",
        "<td style=\"height: 30px;\" width=\"680\">Начало и конец строки соответственно</td>\n",
        "</tr>\n",
        "<tr style=\"height: 30px;\">\n",
        "<td style=\"height: 30px;\" width=\"90\"><tt>{n,m}</tt></td>\n",
        "<td style=\"height: 30px;\" width=\"680\">От <tt>n</tt> до <tt>m</tt> вхождений (<tt>{,m}</tt> —&nbsp;от 0 до <tt>m</tt>)</td>\n",
        "</tr>\n",
        "<tr style=\"height: 30px;\">\n",
        "<td style=\"height: 30px;\" width=\"90\"><tt>a|b</tt></td>\n",
        "<td style=\"height: 30px;\" width=\"680\">Соответствует <tt>a</tt> или <tt>b</tt></td>\n",
        "</tr>\n",
        "<tr style=\"height: 30px;\">\n",
        "<td style=\"height: 30px;\" width=\"90\"><tt>()</tt></td>\n",
        "<td style=\"height: 30px;\" width=\"680\">Группирует выражение и возвращает найденный текст</td>\n",
        "</tr>\n",
        "<tr style=\"height: 30px;\">\n",
        "<td style=\"height: 30px;\" width=\"90\"><tt>\\t</tt>, <tt>\\n</tt>, <tt>\\r</tt></td>\n",
        "<td style=\"height: 30px;\" width=\"680\">Символ табуляции, новой строки и возврата каретки соответственно</td>\n",
        "</tr>\n",
        "</tbody>\n",
        "</table>"
      ]
    },
    {
      "cell_type": "markdown",
      "metadata": {
        "id": "KN07W5Hh0N9d"
      },
      "source": [
        "## Для чего используются регулярные выражения\n",
        "* для определения нужного формата, например телефонного номера или email-адреса;\n",
        "* для разбивки строк на подстроки;\n",
        "* для поиска, замены и извлечения символов;\n",
        "* для быстрого выполнения нетривиальных операций."
      ]
    },
    {
      "cell_type": "code",
      "metadata": {
        "id": "MfktojDl0jsn"
      },
      "source": [
        "import re"
      ],
      "execution_count": null,
      "outputs": []
    },
    {
      "cell_type": "markdown",
      "metadata": {
        "id": "ib3Dy3z50lxc"
      },
      "source": [
        "## Наиболее популярные методы\n",
        "* `re.match()`\n",
        "* `re.search()`\n",
        "* `re.findall()`\n",
        "* `re.split()`\n",
        "* `re.sub()`\n",
        "* `re.compile()`"
      ]
    },
    {
      "cell_type": "markdown",
      "metadata": {
        "id": "O_RhaKVH0yRp"
      },
      "source": [
        "### `re.match(pattern, string)`\n",
        "Этот метод ищет по заданному шаблону в начале строки. "
      ]
    },
    {
      "cell_type": "code",
      "metadata": {
        "colab": {
          "base_uri": "https://localhost:8080/"
        },
        "id": "xMZ35WO-1FgF",
        "outputId": "ab7c1ff4-02a7-411c-b5c6-9c95b82c194a"
      },
      "source": [
        "import re\n",
        "result = re.match(r'AV', 'AV Analytics Vidhya AV')\n",
        "print(result)"
      ],
      "execution_count": null,
      "outputs": [
        {
          "output_type": "stream",
          "name": "stdout",
          "text": [
            "<re.Match object; span=(0, 2), match='AV'>\n"
          ]
        }
      ]
    },
    {
      "cell_type": "code",
      "metadata": {
        "colab": {
          "base_uri": "https://localhost:8080/"
        },
        "id": "vd2iEhEf1POl",
        "outputId": "263538f9-153b-4240-96b0-f5f744ee22c3"
      },
      "source": [
        "print(result.group(0))"
      ],
      "execution_count": null,
      "outputs": [
        {
          "output_type": "stream",
          "name": "stdout",
          "text": [
            "AV\n"
          ]
        }
      ]
    },
    {
      "cell_type": "code",
      "metadata": {
        "colab": {
          "base_uri": "https://localhost:8080/"
        },
        "id": "Btlu5OUF1YGN",
        "outputId": "75330c5a-fd1c-47b6-8782-e16767046a79"
      },
      "source": [
        "result = re.match(r'Analytics', 'AV Analytics Vidhya AV')\n",
        "print(result)"
      ],
      "execution_count": null,
      "outputs": [
        {
          "output_type": "stream",
          "name": "stdout",
          "text": [
            "None\n"
          ]
        }
      ]
    },
    {
      "cell_type": "code",
      "metadata": {
        "colab": {
          "base_uri": "https://localhost:8080/"
        },
        "id": "MuvDc0cL1b78",
        "outputId": "dc43051e-6b33-46a4-8909-09c8cf91d138"
      },
      "source": [
        "result = re.match(r'AV', 'AV Analytics Vidhya AV')\n",
        "print(result.start())\n",
        "print(result.end())"
      ],
      "execution_count": null,
      "outputs": [
        {
          "output_type": "stream",
          "name": "stdout",
          "text": [
            "0\n",
            "2\n"
          ]
        }
      ]
    },
    {
      "cell_type": "markdown",
      "metadata": {
        "id": "1xi4YMAV1h1o"
      },
      "source": [
        "### `re.search(pattern, string)`\n",
        "Метод похож на `match()`, но ищет не только в начале строки.  \n",
        "Метод `search()` ищет по всей строке, но возвращает только первое найденное совпадение."
      ]
    },
    {
      "cell_type": "code",
      "metadata": {
        "colab": {
          "base_uri": "https://localhost:8080/"
        },
        "id": "-gmPV8jj1tP8",
        "outputId": "0b7c5397-eecb-43dd-eea9-3d215d9cb4d6"
      },
      "source": [
        "result = re.search(r'Analytics', 'AV Analytics Vidhya AV')\n",
        "print(result.group(0))"
      ],
      "execution_count": null,
      "outputs": [
        {
          "output_type": "stream",
          "name": "stdout",
          "text": [
            "Analytics\n"
          ]
        }
      ]
    },
    {
      "cell_type": "markdown",
      "metadata": {
        "id": "ABjRyEjb2a9z"
      },
      "source": [
        "### `re.findall(pattern, string)`\n",
        "Возвращает список всех найденных совпадений. У метода `findall()` нет ограничений на поиск в начале или конце строки."
      ]
    },
    {
      "cell_type": "code",
      "metadata": {
        "colab": {
          "base_uri": "https://localhost:8080/"
        },
        "id": "hxMBNw-q2n9_",
        "outputId": "383a0c1f-f41b-4af6-bded-cc0f6ff54d38"
      },
      "source": [
        "result = re.findall(r'AV', 'AV Analytics Vidhya AV')\n",
        "print(result)"
      ],
      "execution_count": null,
      "outputs": [
        {
          "output_type": "stream",
          "name": "stdout",
          "text": [
            "['AV', 'AV']\n"
          ]
        }
      ]
    },
    {
      "cell_type": "markdown",
      "metadata": {
        "id": "fErnmAnp2r86"
      },
      "source": [
        "### `re.split(pattern, string, [maxsplit=0])`\n",
        "Этот метод разделяет строку по заданному шаблону."
      ]
    },
    {
      "cell_type": "code",
      "metadata": {
        "colab": {
          "base_uri": "https://localhost:8080/"
        },
        "id": "GPL0THG22xf6",
        "outputId": "4fd54653-d4c7-4c19-94f8-71bed89a330f"
      },
      "source": [
        "result = re.split(r'i', 'Analytics')\n",
        "print(result)"
      ],
      "execution_count": null,
      "outputs": [
        {
          "output_type": "stream",
          "name": "stdout",
          "text": [
            "['Analyt', 'cs']\n"
          ]
        }
      ]
    },
    {
      "cell_type": "markdown",
      "metadata": {
        "id": "xdUSKq1x26Hm"
      },
      "source": [
        "Метод `split()` принимает также аргумент `maxsplit` со значением по умолчанию, равным 0. В данном случае он разделит строку столько раз, сколько возможно, но если указать этот аргумент, то разделение будет произведено не более указанного количества раз."
      ]
    },
    {
      "cell_type": "code",
      "metadata": {
        "colab": {
          "base_uri": "https://localhost:8080/"
        },
        "id": "Ipb7fiFd3Dak",
        "outputId": "0301d5aa-88c1-43d9-cf2a-1bb2496ae112"
      },
      "source": [
        "result = re.split(r'i', 'Analytics Vidhya')\n",
        "print(result)"
      ],
      "execution_count": null,
      "outputs": [
        {
          "output_type": "stream",
          "name": "stdout",
          "text": [
            "['Analyt', 'cs V', 'dhya']\n"
          ]
        }
      ]
    },
    {
      "cell_type": "code",
      "metadata": {
        "colab": {
          "base_uri": "https://localhost:8080/"
        },
        "id": "0nXCfJAV3F5z",
        "outputId": "148324a7-20e8-4d1b-c02a-f2b1905e74db"
      },
      "source": [
        "result = re.split(r'i', 'Analytics Vidhya',maxsplit=1)\n",
        "print(result)"
      ],
      "execution_count": null,
      "outputs": [
        {
          "output_type": "stream",
          "name": "stdout",
          "text": [
            "['Analyt', 'cs Vidhya']\n"
          ]
        }
      ]
    },
    {
      "cell_type": "markdown",
      "metadata": {
        "id": "uyFz5tC-3JVO"
      },
      "source": [
        "### `re.sub(pattern, repl, string)`\n",
        "Ищет шаблон в строке и заменяет его на указанную подстроку. Если шаблон не найден, строка остается неизменной."
      ]
    },
    {
      "cell_type": "code",
      "metadata": {
        "colab": {
          "base_uri": "https://localhost:8080/"
        },
        "id": "k70xUdU_3Obc",
        "outputId": "88b63a77-8206-4d5e-ac97-9237bcba16f4"
      },
      "source": [
        "result = re.sub(r'India', 'the World', 'AV is largest Analytics community of India')\n",
        "print(result)"
      ],
      "execution_count": null,
      "outputs": [
        {
          "output_type": "stream",
          "name": "stdout",
          "text": [
            "AV is largest Analytics community of the World\n"
          ]
        }
      ]
    },
    {
      "cell_type": "markdown",
      "metadata": {
        "id": "wPWKoDeF3qNj"
      },
      "source": [
        "### `re.compile(pattern, flags=0)`\n",
        "Собирает регулярное выражение в отдельный объект, который может быть использован для поиска."
      ]
    },
    {
      "cell_type": "code",
      "metadata": {
        "colab": {
          "base_uri": "https://localhost:8080/"
        },
        "id": "sIeE1cuH3_Di",
        "outputId": "98ce8701-c325-4265-cb6b-9704c85fba15"
      },
      "source": [
        "pattern = re.compile('AV')\n",
        "result = pattern.findall('AV Analytics Vidhya AV')\n",
        "print(result)\n",
        "result2 = pattern.findall('AV is largest analytics community of India')\n",
        "print(result2)"
      ],
      "execution_count": null,
      "outputs": [
        {
          "output_type": "stream",
          "name": "stdout",
          "text": [
            "['AV', 'AV']\n",
            "['AV']\n"
          ]
        }
      ]
    },
    {
      "cell_type": "markdown",
      "metadata": {
        "id": "EBE9jgJk4kD7"
      },
      "source": [
        "<table style=\"height: 384px; width: 100%;\" width=\"100%\">\n",
        "<tbody>\n",
        "<tr style=\"height: 30px;\">\n",
        "<th style=\"text-align: center; height: 30px;\" width=\"90\"><strong>Оператор</strong></th>\n",
        "<th style=\"text-align: center; height: 30px;\" width=\"680\"><strong>Описание</strong></th>\n",
        "</tr>\n",
        "<tr style=\"height: 30px;\">\n",
        "<td style=\"height: 30px;\" width=\"90\"><tt>.</tt></td>\n",
        "<td style=\"height: 30px;\" width=\"680\">Один любой символ, кроме новой строки <tt>\\n</tt></td>\n",
        "</tr>\n",
        "<tr style=\"height: 30px;\">\n",
        "<td style=\"height: 30px;\" width=\"90\"><tt>?</tt></td>\n",
        "<td style=\"height: 30px;\" width=\"680\">0 или 1 вхождение шаблона слева</td>\n",
        "</tr>\n",
        "<tr style=\"height: 30px;\">\n",
        "<td style=\"height: 30px;\" width=\"90\"><tt>+</tt></td>\n",
        "<td style=\"height: 30px;\" width=\"680\">1 и более вхождений шаблона слева</td>\n",
        "</tr>\n",
        "<tr style=\"height: 30px;\">\n",
        "<td style=\"height: 30px;\" width=\"90\"><tt>*</tt></td>\n",
        "<td style=\"height: 30px;\" width=\"680\">0 и более вхождений шаблона слева</td>\n",
        "</tr>\n",
        "<tr style=\"height: 30px;\">\n",
        "<td style=\"height: 30px;\" width=\"90\"><tt>\\w</tt></td>\n",
        "<td style=\"height: 30px;\" width=\"680\">Любая цифра или буква (<tt>\\W</tt> —&nbsp;все, кроме буквы или цифры)</td>\n",
        "</tr>\n",
        "<tr style=\"height: 30px;\">\n",
        "<td style=\"height: 30px;\" width=\"90\"><tt>\\d</tt></td>\n",
        "<td style=\"height: 30px;\" width=\"680\">Любая цифра [0-9] (<tt>\\D</tt> —&nbsp;все, кроме цифры)</td>\n",
        "</tr>\n",
        "<tr style=\"height: 30px;\">\n",
        "<td style=\"height: 30px;\" width=\"90\"><tt>\\s</tt></td>\n",
        "<td style=\"height: 30px;\" width=\"680\">Любой пробельный символ (<tt>\\S</tt> —&nbsp;любой непробельный символ)</td>\n",
        "</tr>\n",
        "<tr style=\"height: 30px;\">\n",
        "<td style=\"height: 30px;\" width=\"90\"><tt>\\b</tt></td>\n",
        "<td style=\"height: 30px;\" width=\"680\">Граница слова</td>\n",
        "</tr>\n",
        "<tr style=\"height: 30px;\">\n",
        "<td style=\"height: 30px;\" width=\"90\"><tt>[..]</tt></td>\n",
        "<td style=\"height: 30px;\" width=\"680\">Один из символов в скобках (<tt>[^..]</tt> —&nbsp;любой символ, кроме тех, что в скобках)</td>\n",
        "</tr>\n",
        "<tr style=\"height: 30px;\">\n",
        "<td style=\"height: 30px;\" width=\"90\"><tt>\\</tt></td>\n",
        "<td style=\"height: 30px;\" width=\"680\">Экранирование специальных символов (<tt>\\.</tt> означает точку или <tt>\\+</tt> —&nbsp;знак «плюс»)</td>\n",
        "</tr>\n",
        "<tr style=\"height: 30px;\">\n",
        "<td style=\"height: 30px;\" width=\"90\"><tt>^</tt> и <tt>$</tt></td>\n",
        "<td style=\"height: 30px;\" width=\"680\">Начало и конец строки соответственно</td>\n",
        "</tr>\n",
        "<tr style=\"height: 30px;\">\n",
        "<td style=\"height: 30px;\" width=\"90\"><tt>{n,m}</tt></td>\n",
        "<td style=\"height: 30px;\" width=\"680\">От <tt>n</tt> до <tt>m</tt> вхождений (<tt>{,m}</tt> —&nbsp;от 0 до <tt>m</tt>)</td>\n",
        "</tr>\n",
        "<tr style=\"height: 30px;\">\n",
        "<td style=\"height: 30px;\" width=\"90\"><tt>a|b</tt></td>\n",
        "<td style=\"height: 30px;\" width=\"680\">Соответствует <tt>a</tt> или <tt>b</tt></td>\n",
        "</tr>\n",
        "<tr style=\"height: 30px;\">\n",
        "<td style=\"height: 30px;\" width=\"90\"><tt>()</tt></td>\n",
        "<td style=\"height: 30px;\" width=\"680\">Группирует выражение и возвращает найденный текст</td>\n",
        "</tr>\n",
        "<tr style=\"height: 30px;\">\n",
        "<td style=\"height: 30px;\" width=\"90\"><tt>\\t</tt>, <tt>\\n</tt>, <tt>\\r</tt></td>\n",
        "<td style=\"height: 30px;\" width=\"680\">Символ табуляции, новой строки и возврата каретки соответственно</td>\n",
        "</tr>\n",
        "</tbody>\n",
        "</table>"
      ]
    },
    {
      "cell_type": "markdown",
      "metadata": {
        "id": "cBbdCt_R4y2s"
      },
      "source": [
        "# Задачи"
      ]
    },
    {
      "cell_type": "markdown",
      "metadata": {
        "id": "9fjlyM1X43iM"
      },
      "source": [
        "## Вернуть первое слово из строки"
      ]
    },
    {
      "cell_type": "markdown",
      "metadata": {
        "id": "y41u1we548oj"
      },
      "source": [
        "Сначала попробуем вытащить каждый символ (используя `.`)"
      ]
    },
    {
      "cell_type": "code",
      "metadata": {
        "colab": {
          "base_uri": "https://localhost:8080/"
        },
        "id": "xE0njsfB4-e7",
        "outputId": "e481859c-dba8-4316-e18c-feabdbd52062"
      },
      "source": [
        "result = re.findall(r'.', 'AV is largest Analytics community of India')\n",
        "print(result)"
      ],
      "execution_count": null,
      "outputs": [
        {
          "output_type": "stream",
          "name": "stdout",
          "text": [
            "['A', 'V', ' ', 'i', 's', ' ', 'l', 'a', 'r', 'g', 'e', 's', 't', ' ', 'A', 'n', 'a', 'l', 'y', 't', 'i', 'c', 's', ' ', 'c', 'o', 'm', 'm', 'u', 'n', 'i', 't', 'y', ' ', 'o', 'f', ' ', 'I', 'n', 'd', 'i', 'a']\n"
          ]
        }
      ]
    },
    {
      "cell_type": "markdown",
      "metadata": {
        "id": "i8r5_OrN5Bjk"
      },
      "source": [
        "Для того, чтобы в конечный результат не попал пробел, используем вместо `.` `\\w`."
      ]
    },
    {
      "cell_type": "code",
      "metadata": {
        "colab": {
          "base_uri": "https://localhost:8080/"
        },
        "id": "D7qUwV_D5EfE",
        "outputId": "dcd80983-d6f2-4e7e-c234-92cdcc5bd3bd"
      },
      "source": [
        "result = re.findall(r'\\w', 'AV is largest Analytics community of India')\n",
        "print(result)"
      ],
      "execution_count": null,
      "outputs": [
        {
          "output_type": "stream",
          "name": "stdout",
          "text": [
            "['A', 'V', 'i', 's', 'l', 'a', 'r', 'g', 'e', 's', 't', 'A', 'n', 'a', 'l', 'y', 't', 'i', 'c', 's', 'c', 'o', 'm', 'm', 'u', 'n', 'i', 't', 'y', 'o', 'f', 'I', 'n', 'd', 'i', 'a']\n"
          ]
        }
      ]
    },
    {
      "cell_type": "markdown",
      "metadata": {
        "id": "ITLyeVjv5Hda"
      },
      "source": [
        "Теперь попробуем достать каждое слово (используя `*` или `+`)"
      ]
    },
    {
      "cell_type": "code",
      "metadata": {
        "colab": {
          "base_uri": "https://localhost:8080/"
        },
        "id": "A0WXNiyS5KOL",
        "outputId": "f20ee26c-5246-429c-fc70-91cf89e627a0"
      },
      "source": [
        "result = re.findall(r'\\w*', 'AV is largest Analytics community of India')\n",
        "print(result)"
      ],
      "execution_count": null,
      "outputs": [
        {
          "output_type": "stream",
          "name": "stdout",
          "text": [
            "['AV', '', 'is', '', 'largest', '', 'Analytics', '', 'community', '', 'of', '', 'India', '']\n"
          ]
        }
      ]
    },
    {
      "cell_type": "markdown",
      "metadata": {
        "id": "XPiwENIq5Ne-"
      },
      "source": [
        "И снова в результат попали пробелы, так как `*` означает «ноль или более символов». Для того, чтобы их убрать, используем `+`:\n"
      ]
    },
    {
      "cell_type": "code",
      "metadata": {
        "colab": {
          "base_uri": "https://localhost:8080/"
        },
        "id": "ZP58nHFx5Ujj",
        "outputId": "013658a2-4a68-4c94-9c45-f7a1b3cfdfc1"
      },
      "source": [
        "result = re.findall(r'\\w+', 'AV is largest Analytics community of India')\n",
        "print(result)"
      ],
      "execution_count": null,
      "outputs": [
        {
          "output_type": "stream",
          "name": "stdout",
          "text": [
            "['AV', 'is', 'largest', 'Analytics', 'community', 'of', 'India']\n"
          ]
        }
      ]
    },
    {
      "cell_type": "markdown",
      "metadata": {
        "id": "J_KnOSgT5Xba"
      },
      "source": [
        "Теперь вытащим первое слово, используя `^`:"
      ]
    },
    {
      "cell_type": "code",
      "metadata": {
        "colab": {
          "base_uri": "https://localhost:8080/"
        },
        "id": "v9e9-ExU5Zuz",
        "outputId": "d04581fe-c385-463b-c164-d205a0d096f0"
      },
      "source": [
        "result = re.findall(r'^\\w+', 'AV is largest Analytics community of India')\n",
        "print(result)"
      ],
      "execution_count": null,
      "outputs": [
        {
          "output_type": "stream",
          "name": "stdout",
          "text": [
            "['AV']\n"
          ]
        }
      ]
    },
    {
      "cell_type": "markdown",
      "metadata": {
        "id": "aAFErmB45cw7"
      },
      "source": [
        "Если мы используем `$` вместо `^`, то мы получим последнее слово, а не первое:"
      ]
    },
    {
      "cell_type": "code",
      "metadata": {
        "colab": {
          "base_uri": "https://localhost:8080/"
        },
        "id": "ZfJfLgqJ5gDq",
        "outputId": "7bf837bd-9738-4ae3-99ef-06df52fddddf"
      },
      "source": [
        "result = re.findall(r'\\w+$', 'AV is largest Analytics community of India')\n",
        "print(result)"
      ],
      "execution_count": null,
      "outputs": [
        {
          "output_type": "stream",
          "name": "stdout",
          "text": [
            "['India']\n"
          ]
        }
      ]
    },
    {
      "cell_type": "markdown",
      "metadata": {
        "id": "W3cyYvQ75yEr"
      },
      "source": [
        "## Вернуть первые два символа каждого слова"
      ]
    },
    {
      "cell_type": "markdown",
      "metadata": {
        "id": "90hipmyP50cE"
      },
      "source": [
        "Вариант 1: используя `\\w`, вытащить два последовательных символа, кроме пробельных, из каждого слова:"
      ]
    },
    {
      "cell_type": "code",
      "metadata": {
        "colab": {
          "base_uri": "https://localhost:8080/"
        },
        "id": "x-7WxVFb54GS",
        "outputId": "608b2cd6-00ee-41d4-92e0-2cc3809bcdf8"
      },
      "source": [
        "result = re.findall(r'\\w\\w', 'AV is largest Analytics community of India')\n",
        "print(result)"
      ],
      "execution_count": null,
      "outputs": [
        {
          "output_type": "stream",
          "name": "stdout",
          "text": [
            "['AV', 'is', 'la', 'rg', 'es', 'An', 'al', 'yt', 'ic', 'co', 'mm', 'un', 'it', 'of', 'In', 'di']\n"
          ]
        }
      ]
    },
    {
      "cell_type": "markdown",
      "metadata": {
        "id": "qJNTHHaT57M7"
      },
      "source": [
        "Вариант 2: вытащить два последовательных символа, используя символ границы слова (`\\b`):"
      ]
    },
    {
      "cell_type": "code",
      "metadata": {
        "colab": {
          "base_uri": "https://localhost:8080/"
        },
        "id": "oD3mxXoX59hi",
        "outputId": "3401a025-f547-4442-d1cd-e7c475058f8c"
      },
      "source": [
        "result = re.findall(r'\\b\\w.', 'AV is largest Analytics community of India')\n",
        "print(result)"
      ],
      "execution_count": null,
      "outputs": [
        {
          "output_type": "stream",
          "name": "stdout",
          "text": [
            "['AV', 'is', 'la', 'An', 'co', 'of', 'In']\n"
          ]
        }
      ]
    },
    {
      "cell_type": "markdown",
      "metadata": {
        "id": "CIx8sSJk6R15"
      },
      "source": [
        "## Вернуть домены из списка email-адресов"
      ]
    },
    {
      "cell_type": "markdown",
      "metadata": {
        "id": "63lEnCA-6UBR"
      },
      "source": [
        "Сначала вернём все символы после «@»:"
      ]
    },
    {
      "cell_type": "code",
      "metadata": {
        "colab": {
          "base_uri": "https://localhost:8080/"
        },
        "id": "AP-9q77v6WyS",
        "outputId": "31c655a8-aa8b-4aa7-cc3f-c923a73ea9b9"
      },
      "source": [
        "result = re.findall(r'@\\w+', 'abc.test@gmail.com, xyz@test.in, test.first@analyticsvidhya.com, first.test@rest.biz')\n",
        "print(result)"
      ],
      "execution_count": null,
      "outputs": [
        {
          "output_type": "stream",
          "name": "stdout",
          "text": [
            "['@gmail', '@test', '@analyticsvidhya', '@rest']\n"
          ]
        }
      ]
    },
    {
      "cell_type": "markdown",
      "metadata": {
        "id": "u4zD-Eh66ZZM"
      },
      "source": [
        "Как видим, части «.com», «.in» и т. д. не попали в результат. Изменим наш код:"
      ]
    },
    {
      "cell_type": "code",
      "metadata": {
        "colab": {
          "base_uri": "https://localhost:8080/"
        },
        "id": "eDVjR7G66cBU",
        "outputId": "ebd8c681-07ff-4559-cf92-36ed59263b01"
      },
      "source": [
        "result = re.findall(r'@\\w+.\\w+', 'abc.test@gmail.com, xyz@test.in, test.first@analyticsvidhya.com, first.test@rest.biz')\n",
        "print(result)"
      ],
      "execution_count": null,
      "outputs": [
        {
          "output_type": "stream",
          "name": "stdout",
          "text": [
            "['@gmail.com', '@test.in', '@analyticsvidhya.com', '@rest.biz']\n"
          ]
        }
      ]
    },
    {
      "cell_type": "markdown",
      "metadata": {
        "id": "0QLZNQj26fZh"
      },
      "source": [
        "Второй вариант — вытащить только домен верхнего уровня, используя группировку — `( )`:"
      ]
    },
    {
      "cell_type": "code",
      "metadata": {
        "colab": {
          "base_uri": "https://localhost:8080/"
        },
        "id": "BkNU5iYA6jo5",
        "outputId": "53f0d202-4a4d-4fc2-edd2-38c0212e912c"
      },
      "source": [
        "result = re.findall(r'@\\w+.(\\w+)', 'abc.test@gmail.com, xyz@test.in, test.first@analyticsvidhya.com, first.test@rest.biz')\n",
        "print(result)"
      ],
      "execution_count": null,
      "outputs": [
        {
          "output_type": "stream",
          "name": "stdout",
          "text": [
            "['com', 'in', 'com', 'biz']\n"
          ]
        }
      ]
    },
    {
      "cell_type": "markdown",
      "metadata": {
        "id": "JIkkhWCw6mbB"
      },
      "source": [
        "## Извлечь дату из строки"
      ]
    },
    {
      "cell_type": "markdown",
      "metadata": {
        "id": "XXAGxTNk6pgx"
      },
      "source": [
        "Используем `\\d` для извлечения цифр."
      ]
    },
    {
      "cell_type": "code",
      "metadata": {
        "colab": {
          "base_uri": "https://localhost:8080/"
        },
        "id": "5EPwvy856ruL",
        "outputId": "2cd69b98-6f8c-4436-fde3-ee0642fc6c61"
      },
      "source": [
        "result = re.findall(r'\\d{2}-\\d{2}-\\d{4}', 'Amit 34-3456 12-05-2007, XYZ 56-4532 11-11-2011, ABC 67-8945 12-01-2009')\n",
        "print(result)"
      ],
      "execution_count": null,
      "outputs": [
        {
          "output_type": "stream",
          "name": "stdout",
          "text": [
            "['12-05-2007', '11-11-2011', '12-01-2009']\n"
          ]
        }
      ]
    },
    {
      "cell_type": "markdown",
      "metadata": {
        "id": "i2HZBA3Z8AO5"
      },
      "source": [
        "Для извлечения только года нам опять помогут скобки:"
      ]
    },
    {
      "cell_type": "code",
      "metadata": {
        "colab": {
          "base_uri": "https://localhost:8080/"
        },
        "id": "lezyABi08B4o",
        "outputId": "dd83441b-96b5-44b1-ce43-6d5418ee953f"
      },
      "source": [
        "result = re.findall(r'\\d{2}-\\d{2}-(\\d{4})', 'Amit 34-3456 12-05-2007, XYZ 56-4532 11-11-2011, ABC 67-8945 12-01-2009')\n",
        "print(result)"
      ],
      "execution_count": null,
      "outputs": [
        {
          "output_type": "stream",
          "name": "stdout",
          "text": [
            "['2007', '2011', '2009']\n"
          ]
        }
      ]
    },
    {
      "cell_type": "markdown",
      "metadata": {
        "id": "GiRyuhFG8EtB"
      },
      "source": [
        "## Извлечь слова, начинающиеся на гласную\n"
      ]
    },
    {
      "cell_type": "markdown",
      "metadata": {
        "id": "beUpsfL_8NJZ"
      },
      "source": [
        "Для начала вернем все слова:"
      ]
    },
    {
      "cell_type": "code",
      "metadata": {
        "colab": {
          "base_uri": "https://localhost:8080/"
        },
        "id": "i7huPqn58O7g",
        "outputId": "dd0dc970-cbba-4277-e482-491be1ab894f"
      },
      "source": [
        "result = re.findall(r'\\w+', 'AV is largest Analytics community of India')\n",
        "print(result)"
      ],
      "execution_count": null,
      "outputs": [
        {
          "output_type": "stream",
          "name": "stdout",
          "text": [
            "['AV', 'is', 'largest', 'Analytics', 'community', 'of', 'India']\n"
          ]
        }
      ]
    },
    {
      "cell_type": "markdown",
      "metadata": {
        "id": "1JNhitO28R48"
      },
      "source": [
        "А теперь — только те, которые начинаются на определенные буквы (используя `[]`):"
      ]
    },
    {
      "cell_type": "code",
      "metadata": {
        "colab": {
          "base_uri": "https://localhost:8080/"
        },
        "id": "0xrifsdB8Zbx",
        "outputId": "77ab91c7-a644-4bba-f064-a13ebd9feb96"
      },
      "source": [
        "result = re.findall(r'[aeiouAEIOU]\\w+', 'AV is largest Analytics community of India')\n",
        "print(result)"
      ],
      "execution_count": null,
      "outputs": [
        {
          "output_type": "stream",
          "name": "stdout",
          "text": [
            "['AV', 'is', 'argest', 'Analytics', 'ommunity', 'of', 'India']\n"
          ]
        }
      ]
    },
    {
      "cell_type": "markdown",
      "metadata": {
        "id": "FsHkZPEk8cmS"
      },
      "source": [
        "Выше мы видим обрезанные слова «argest» и «ommunity». Для того, чтобы убрать их, используем `\\b` для обозначения границы слова:"
      ]
    },
    {
      "cell_type": "code",
      "metadata": {
        "colab": {
          "base_uri": "https://localhost:8080/"
        },
        "id": "FU07n1kv8fkW",
        "outputId": "55dcd5f4-00b9-4077-9a2e-13d0b03fa747"
      },
      "source": [
        "result = re.findall(r'\\b[aeiouAEIOU]\\w+', 'AV is largest Analytics community of India')\n",
        "print(result)"
      ],
      "execution_count": null,
      "outputs": [
        {
          "output_type": "stream",
          "name": "stdout",
          "text": [
            "['AV', 'is', 'Analytics', 'of', 'India']\n"
          ]
        }
      ]
    },
    {
      "cell_type": "markdown",
      "metadata": {
        "id": "_N8WpDzN8iso"
      },
      "source": [
        "Также мы можем использовать `^` внутри квадратных скобок для инвертирования группы:"
      ]
    },
    {
      "cell_type": "code",
      "metadata": {
        "colab": {
          "base_uri": "https://localhost:8080/"
        },
        "id": "_FHq-As98lRS",
        "outputId": "0a94c8c6-e144-4a21-fd67-a05c622f0070"
      },
      "source": [
        "result = re.findall(r'\\b[^aeiouAEIOU]\\w+', 'AV is largest Analytics community of India')\n",
        "print(result)"
      ],
      "execution_count": null,
      "outputs": [
        {
          "output_type": "stream",
          "name": "stdout",
          "text": [
            "[' is', ' largest', ' Analytics', ' community', ' of', ' India']\n"
          ]
        }
      ]
    },
    {
      "cell_type": "markdown",
      "metadata": {
        "id": "34nPRRRS8n-k"
      },
      "source": [
        "В результат попали слова, «начинающиеся» с пробела. Уберем их, включив пробел в диапазон в квадратных скобках:"
      ]
    },
    {
      "cell_type": "code",
      "metadata": {
        "colab": {
          "base_uri": "https://localhost:8080/"
        },
        "id": "mZVmWzDE8qFI",
        "outputId": "e60469a7-6e7b-4ff5-b05f-3830093d27e9"
      },
      "source": [
        "result = re.findall(r'\\b[^aeiouAEIOU ]\\w+', 'AV is largest Analytics community of India')\n",
        "print(result)"
      ],
      "execution_count": null,
      "outputs": [
        {
          "output_type": "stream",
          "name": "stdout",
          "text": [
            "['largest', 'community']\n"
          ]
        }
      ]
    },
    {
      "cell_type": "markdown",
      "metadata": {
        "id": "GFW8hyba8tQj"
      },
      "source": [
        "## Проверить формат телефонного номера"
      ]
    },
    {
      "cell_type": "markdown",
      "metadata": {
        "id": "vmotqKhH8vQE"
      },
      "source": [
        "Номер должен быть длиной 10 знаков и начинаться с 8 или 9. Есть список телефонных номеров, и нужно проверить их, используя регулярки в Python:"
      ]
    },
    {
      "cell_type": "code",
      "metadata": {
        "colab": {
          "base_uri": "https://localhost:8080/"
        },
        "id": "Vwz6HCJG8xAi",
        "outputId": "346783dd-ded3-4aff-d74c-f9e263819980"
      },
      "source": [
        "li = ['9999999999', '999999-999', '99999x9999']\n",
        "\n",
        "for val in li:\n",
        "    if re.match(r'[8-9]{1}[0-9]{9}', val) and len(val) == 10:\n",
        "        print('yes')\n",
        "    else:\n",
        "        print('no')"
      ],
      "execution_count": null,
      "outputs": [
        {
          "output_type": "stream",
          "name": "stdout",
          "text": [
            "yes\n",
            "no\n",
            "no\n"
          ]
        }
      ]
    },
    {
      "cell_type": "markdown",
      "metadata": {
        "id": "OhInHwpn81r7"
      },
      "source": [
        "## Разбить строку по нескольким разделителям"
      ]
    },
    {
      "cell_type": "markdown",
      "metadata": {
        "id": "lMZHRG4K86FJ"
      },
      "source": [
        "Возможное решение:"
      ]
    },
    {
      "cell_type": "code",
      "metadata": {
        "colab": {
          "base_uri": "https://localhost:8080/"
        },
        "id": "LSL_pLJ_86lF",
        "outputId": "aafa8cf7-c48a-4845-fd54-c04f4fde7122"
      },
      "source": [
        "line = 'asdf fjdk;afed,fjek,asdf,foo' # String has multiple delimiters (\";\",\",\",\" \").\n",
        "result = re.split(r'[;,\\s]', line)\n",
        "print(result)"
      ],
      "execution_count": null,
      "outputs": [
        {
          "output_type": "stream",
          "name": "stdout",
          "text": [
            "['asdf', 'fjdk', 'afed', 'fjek', 'asdf', 'foo']\n"
          ]
        }
      ]
    },
    {
      "cell_type": "markdown",
      "metadata": {
        "id": "9Bl7aFow8_wh"
      },
      "source": [
        "Также мы можем использовать метод `re.sub()` для замены всех разделителей пробелами:"
      ]
    },
    {
      "cell_type": "code",
      "metadata": {
        "colab": {
          "base_uri": "https://localhost:8080/"
        },
        "id": "EUlpPRhY9C25",
        "outputId": "d650827a-1271-48f5-d384-e35a8269f53f"
      },
      "source": [
        "line = 'asdf fjdk;afed,fjek,asdf,foo'\n",
        "result = re.sub(r'[;,\\s]',' ', line)\n",
        "print(result)"
      ],
      "execution_count": null,
      "outputs": [
        {
          "output_type": "stream",
          "name": "stdout",
          "text": [
            "asdf fjdk afed fjek asdf foo\n"
          ]
        }
      ]
    },
    {
      "cell_type": "markdown",
      "metadata": {
        "id": "gUMtcuCV9FjL"
      },
      "source": [
        "## Извлечь информацию из html-файла"
      ]
    },
    {
      "cell_type": "markdown",
      "metadata": {
        "id": "0Vo-NGie9IzD"
      },
      "source": [
        "Допустим, нужно извлечь информацию из html-файла, заключенную между `<td>` и `</td>`, кроме первого столбца с номером. Также будем считать, что html-код содержится в строке.\n",
        "\n",
        "Пример содержимого html-файла:\n",
        "\n",
        "1NoahEmma2LiamOlivia3MasonSophia4JacobIsabella5WilliamAva6EthanMia7MichaelEmily"
      ]
    },
    {
      "cell_type": "code",
      "metadata": {
        "id": "aKutjLU2-XMh"
      },
      "source": [
        "test_str = '1NoahEmma2LiamOlivia3MasonSophia4JacobIsabella5WilliamAva6EthanMia7MichaelEmily'"
      ],
      "execution_count": null,
      "outputs": []
    },
    {
      "cell_type": "markdown",
      "metadata": {
        "id": "4iyAVGFA9RpJ"
      },
      "source": [
        "С помощью регулярных выражений в Python это можно решить так (если поместить содержимое файла в переменную test_str):"
      ]
    },
    {
      "cell_type": "code",
      "metadata": {
        "colab": {
          "base_uri": "https://localhost:8080/"
        },
        "id": "-DwQvQCF9T6L",
        "outputId": "8b305481-b98d-4a9d-8a55-44d54c53b507"
      },
      "source": [
        "result = re.findall(r'\\d([A-Z][A-Za-z]+)([A-Z][A-Za-z]+)', test_str)\n",
        "print(result)"
      ],
      "execution_count": null,
      "outputs": [
        {
          "output_type": "stream",
          "name": "stdout",
          "text": [
            "[('Noah', 'Emma'), ('Liam', 'Olivia'), ('Mason', 'Sophia'), ('Jacob', 'Isabella'), ('William', 'Ava'), ('Ethan', 'Mia'), ('Michael', 'Emily')]\n"
          ]
        }
      ]
    }
  ]
}