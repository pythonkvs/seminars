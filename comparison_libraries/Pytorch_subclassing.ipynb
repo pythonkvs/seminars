{
  "cells": [
    {
      "cell_type": "markdown",
      "metadata": {
        "id": "view-in-github",
        "colab_type": "text"
      },
      "source": [
        "<a href=\"https://colab.research.google.com/github/pythonkvs/seminars/blob/main/comparison_libraries/Pytorch_subclassing.ipynb\" target=\"_parent\"><img src=\"https://colab.research.google.com/assets/colab-badge.svg\" alt=\"Open In Colab\"/></a>"
      ]
    },
    {
      "cell_type": "code",
      "execution_count": null,
      "metadata": {
        "id": "VCfkb7FLLt4e"
      },
      "outputs": [],
      "source": [
        "import torch\n",
        "import numpy as np\n",
        "import pandas as pd\n",
        "from sklearn.preprocessing import StandardScaler\n",
        "from sklearn.metrics import confusion_matrix, ConfusionMatrixDisplay\n",
        "from sklearn.utils import shuffle\n",
        "from sklearn.model_selection import train_test_split"
      ]
    },
    {
      "cell_type": "markdown",
      "metadata": {
        "id": "VNkDi_GlLt4g"
      },
      "source": [
        "<h3>Data reshaping and sampling<h3>"
      ]
    },
    {
      "cell_type": "code",
      "execution_count": null,
      "metadata": {
        "id": "xAh_PDFlLt4i"
      },
      "outputs": [],
      "source": [
        "df = pd.read_csv(\"breast-cancer-wisconsin.csv\", sep=';')\n",
        "#display(df.head())\n",
        "#print(len(df))       \n",
        "        \n",
        "for i in range(0,len(df)):\n",
        "    if df.iat[i, 10] == 2:\n",
        "        df.iat[i, 10] = 0\n",
        "    else:\n",
        "        df.iat[i, 10] = 1\n",
        "        \n",
        "for i in range(0, len(df)):\n",
        "    if df.iat[i, 10] != 1 and df.iat[i, 10] != 0:\n",
        "        print(df.iloc[i, 10])\n",
        "\n",
        "ytrain = df[\"Column11\"].to_numpy()\n",
        "\n",
        "df = df.drop([\"Column1\", \"Column7\", \"Column11\"], axis=1)\n",
        "\n",
        "xtrain = df.to_numpy()\n",
        "\n",
        "xtrain, ytrain = shuffle(xtrain, ytrain, random_state=0)\n",
        "\n",
        "feature_train, feature_test, target_train, target_test = train_test_split(xtrain, ytrain, test_size=0.2, random_state=42)\n",
        "\n",
        "sc = StandardScaler()\n",
        "feature_train = sc.fit_transform(feature_train)\n",
        "feature_test = sc.transform(feature_test)\n",
        "\n",
        "tensor_xtrain = torch.FloatTensor(feature_train) \n",
        "tensor_ytrain = torch.FloatTensor(target_train)"
      ]
    },
    {
      "cell_type": "markdown",
      "metadata": {
        "id": "hgd1T6sdLt4j"
      },
      "source": [
        "<h3> Model building<h3>"
      ]
    },
    {
      "cell_type": "code",
      "execution_count": null,
      "metadata": {
        "id": "RGzKpdx-Lt4k"
      },
      "outputs": [],
      "source": [
        "class MyPS(torch.nn.Module): \n",
        "   \n",
        "    def __init__(self, p): \n",
        "             \n",
        "        super(MyPS, self).__init__() \n",
        "\n",
        "        self.layer1 = torch.nn.Linear(p, 2) \n",
        "        self.ft1 = torch.nn.ReLU() \n",
        "        \n",
        "        self.layer2 = torch.nn.Linear(2, 1)         \n",
        "        self.ft2 = torch.nn.Sigmoid() \n",
        "         \n",
        "       \n",
        "    def forward(self, x): \n",
        "       \n",
        "        x = self.layer1(x)    \n",
        "        x = self.ft1(x)         \n",
        "                \n",
        "        x = self.layer2(x)    \n",
        "        x = self.ft2(x)     \n",
        "          \n",
        "        return x"
      ]
    },
    {
      "cell_type": "code",
      "execution_count": null,
      "metadata": {
        "id": "ARAvZOdqLt4l"
      },
      "outputs": [],
      "source": [
        "loss = torch.nn.MSELoss() "
      ]
    },
    {
      "cell_type": "code",
      "execution_count": null,
      "metadata": {
        "id": "A9qNinjvLt4m"
      },
      "outputs": [],
      "source": [
        "model = MyPS(tensor_xtrain.shape[1]) \n",
        " \n",
        "optimizer = torch.optim.Adam(model.parameters()) "
      ]
    },
    {
      "cell_type": "markdown",
      "metadata": {
        "id": "r3-upQnBLt4o"
      },
      "source": [
        "<h3> Model training<h3>"
      ]
    },
    {
      "cell_type": "code",
      "execution_count": null,
      "metadata": {
        "id": "HDDApDtALt4p"
      },
      "outputs": [],
      "source": [
        "def train_session(X, y, classifier, criterion, optimizer, n_epochs=10000): \n",
        "    losses = np.zeros(n_epochs)     \n",
        "    \n",
        "    for iter in range(n_epochs): \n",
        "        optimizer.zero_grad() \n",
        "        yPred = classifier(X)         \n",
        "        loss = criterion(yPred.squeeze(), y)        \n",
        "        losses[iter] = loss.item() \n",
        "        loss.backward() \n",
        "        optimizer.step()    \n",
        " \n",
        "    return losses\n",
        "\n",
        "losses = train_session(tensor_xtrain, tensor_ytrain, model, loss, optimizer)"
      ]
    },
    {
      "cell_type": "markdown",
      "metadata": {
        "id": "Og2QQRlHLt4q"
      },
      "source": [
        "<h3> Model evaluation<h3>"
      ]
    },
    {
      "cell_type": "code",
      "execution_count": null,
      "metadata": {
        "id": "h26AqrRYLt4r",
        "outputId": "c9fafa30-ce73-438c-a585-ebf4f8129e5c",
        "colab": {
          "base_uri": "https://localhost:8080/",
          "height": 279
        }
      },
      "outputs": [
        {
          "output_type": "display_data",
          "data": {
            "image/png": "[encoded data removed]",
            "text/plain": [
              "<Figure size 432x288 with 1 Axes>"
            ]
          },
          "metadata": {
            "needs_background": "light"
          }
        }
      ],
      "source": [
        "import matplotlib.pyplot as plt \n",
        "plt.plot(np.arange(0, losses.shape[0]), losses) \n",
        "plt.xlabel(\"Epochs\") \n",
        "plt.ylabel(\"Loss\") \n",
        "plt.show() "
      ]
    },
    {
      "cell_type": "code",
      "execution_count": null,
      "metadata": {
        "id": "ZHN4px_mLt4t",
        "outputId": "c01aff93-549a-4468-e2bf-d3f7ca6a5171",
        "colab": {
          "base_uri": "https://localhost:8080/",
          "height": 296
        }
      },
      "outputs": [
        {
          "output_type": "execute_result",
          "data": {
            "text/plain": [
              "<sklearn.metrics._plot.confusion_matrix.ConfusionMatrixDisplay at 0x7fa92aa40b50>"
            ]
          },
          "metadata": {},
          "execution_count": 38
        },
        {
          "output_type": "display_data",
          "data": {
            "image/png": "[encoded data removed]",
            "text/plain": [
              "<Figure size 432x288 with 2 Axes>"
            ]
          },
          "metadata": {
            "needs_background": "light"
          }
        }
      ],
      "source": [
        "tensor_xtest = torch.FloatTensor(feature_test) \n",
        "\n",
        "predictions = np.round(model(tensor_xtest).squeeze().detach().numpy(), 0)\n",
        "cm = confusion_matrix(target_test, predictions)\n",
        "class_names=[\"benign\", \"malignant\"]\n",
        "disp = ConfusionMatrixDisplay(confusion_matrix=cm, display_labels=class_names)\n",
        "disp.plot()\n"
      ]
    }
  ],
  "metadata": {
    "kernelspec": {
      "display_name": "Python 3",
      "language": "python",
      "name": "python3"
    },
    "language_info": {
      "codemirror_mode": {
        "name": "ipython",
        "version": 3
      },
      "file_extension": ".py",
      "mimetype": "text/x-python",
      "name": "python",
      "nbconvert_exporter": "python",
      "pygments_lexer": "ipython3",
      "version": "3.8.3"
    },
    "colab": {
      "name": "Pytorch_subclassing.ipynb",
      "provenance": [],
      "collapsed_sections": [],
      "include_colab_link": true
    }
  },
  "nbformat": 4,
  "nbformat_minor": 0
}