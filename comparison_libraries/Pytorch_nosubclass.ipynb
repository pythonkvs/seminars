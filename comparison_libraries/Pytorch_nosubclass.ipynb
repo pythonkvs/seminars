{
  "cells": [
    {
      "cell_type": "markdown",
      "metadata": {
        "id": "view-in-github",
        "colab_type": "text"
      },
      "source": [
        "<a href=\"https://colab.research.google.com/github/pythonkvs/seminars/blob/main/comparison_libraries/Pytorch_nosubclass.ipynb\" target=\"_parent\"><img src=\"https://colab.research.google.com/assets/colab-badge.svg\" alt=\"Open In Colab\"/></a>"
      ]
    },
    {
      "cell_type": "code",
      "execution_count": null,
      "metadata": {
        "jupyter": {
          "source_hidden": true
        },
        "id": "onwEkJYnLr3R"
      },
      "outputs": [],
      "source": [
        "import torch\n",
        "import numpy as np\n",
        "import pandas as pd\n",
        "from sklearn.preprocessing import StandardScaler\n",
        "from sklearn.metrics import confusion_matrix, ConfusionMatrixDisplay\n",
        "from sklearn.utils import shuffle\n",
        "from sklearn.model_selection import train_test_split"
      ]
    },
    {
      "cell_type": "markdown",
      "metadata": {
        "id": "gVa6_iL2Lr3Y"
      },
      "source": [
        "<h3>Data reshaping and sampling<h3>"
      ]
    },
    {
      "cell_type": "code",
      "execution_count": null,
      "metadata": {
        "id": "ImDMIZC4Lr3a"
      },
      "outputs": [],
      "source": [
        "df = pd.read_csv(\"breast-cancer-wisconsin.csv\", sep=';')\n",
        "# display(df.head())\n",
        "# print(len(df))       \n",
        "        \n",
        "for i in range(0,len(df)):\n",
        "    if df.iat[i, 10] == 2:\n",
        "        df.iat[i, 10] = 0\n",
        "    else:\n",
        "        df.iat[i, 10] = 1\n",
        "        \n",
        "for i in range(0, len(df)):\n",
        "    if df.iat[i, 10] != 1 and df.iat[i, 10] != 0:\n",
        "        print(df.iloc[i, 10])\n",
        "\n",
        "ytrain = df[\"Column11\"].to_numpy()\n",
        "\n",
        "df = df.drop([\"Column1\", \"Column7\", \"Column11\"], axis=1)\n",
        "\n",
        "xtrain = df.to_numpy()\n",
        "\n",
        "xtrain, ytrain = shuffle(xtrain, ytrain, random_state=0)\n",
        "\n",
        "feature_train, feature_test, target_train, target_test = train_test_split(xtrain, ytrain, test_size=0.2, random_state=42)\n",
        "\n",
        "sc = StandardScaler()\n",
        "feature_train = sc.fit_transform(feature_train)\n",
        "feature_test = sc.transform(feature_test)\n",
        "\n",
        "tensor_xtrain = torch.FloatTensor(feature_train) \n",
        "tensor_ytrain = torch.FloatTensor(target_train) "
      ]
    },
    {
      "cell_type": "markdown",
      "metadata": {
        "id": "qX3rjRbXLr3d"
      },
      "source": [
        "<h3> Model building<h3>"
      ]
    },
    {
      "cell_type": "code",
      "execution_count": null,
      "metadata": {
        "id": "cWP0xHbxLr3e"
      },
      "outputs": [],
      "source": [
        "model = torch.nn.Sequential(\n",
        "    torch.nn.Linear(8, 2),\n",
        "    torch.nn.ReLU(),\n",
        "    torch.nn.Linear(2, 1),\n",
        "    torch.nn.Sigmoid())"
      ]
    },
    {
      "cell_type": "code",
      "execution_count": null,
      "metadata": {
        "id": "jBHuCRS2Lr3o"
      },
      "outputs": [],
      "source": [
        "loss = torch.nn.MSELoss() \n",
        " \n",
        "optimizer = torch.optim.Adam(model.parameters()) "
      ]
    },
    {
      "cell_type": "markdown",
      "metadata": {
        "id": "_MVeVkg5Lr3q"
      },
      "source": [
        "<h3> Model training<h3>"
      ]
    },
    {
      "cell_type": "code",
      "execution_count": null,
      "metadata": {
        "id": "klOjZhzuLr3u"
      },
      "outputs": [],
      "source": [
        "def train_session(X, y, classifier, criterion, optimizer, n_epochs=10000): \n",
        "    losses = np.zeros(n_epochs)        \n",
        "    \n",
        "    for iter in range(n_epochs): \n",
        "        optimizer.zero_grad() \n",
        "        yPred = classifier(X)         \n",
        "        loss = criterion(yPred.squeeze(), y) \n",
        "        losses[iter] = loss.item() \n",
        "        loss.backward() \n",
        "        optimizer.step() \n",
        "           \n",
        "    return losses\n",
        "\n",
        "losses = train_session(tensor_xtrain, tensor_ytrain, model, loss, optimizer)"
      ]
    },
    {
      "cell_type": "markdown",
      "metadata": {
        "id": "d44Ly4RPLr34"
      },
      "source": [
        "<h3> Model evaluation<h3>"
      ]
    },
    {
      "cell_type": "code",
      "execution_count": null,
      "metadata": {
        "id": "bAY-eSXILr8V",
        "outputId": "00de3573-f971-44ed-cf92-488a3b781dc2",
        "colab": {
          "base_uri": "https://localhost:8080/",
          "height": 279
        }
      },
      "outputs": [
        {
          "output_type": "display_data",
          "data": {
            "image/png": "[encoded data removed]",
            "text/plain": [
              "<Figure size 432x288 with 1 Axes>"
            ]
          },
          "metadata": {
            "needs_background": "light"
          }
        }
      ],
      "source": [
        "import matplotlib.pyplot as plt \n",
        "plt.plot(np.arange(0, losses.shape[0]), losses)\n",
        "plt.xlabel(\"Epochs\") \n",
        "plt.ylabel(\"Loss\") \n",
        "plt.show() "
      ]
    },
    {
      "cell_type": "code",
      "execution_count": null,
      "metadata": {
        "jupyter": {
          "source_hidden": true
        },
        "id": "0uBj-6UnLr8X",
        "outputId": "5545bb9b-daba-4cdb-d31a-c7911776579f",
        "colab": {
          "base_uri": "https://localhost:8080/",
          "height": 296
        }
      },
      "outputs": [
        {
          "output_type": "execute_result",
          "data": {
            "text/plain": [
              "<sklearn.metrics._plot.confusion_matrix.ConfusionMatrixDisplay at 0x7f0db5094690>"
            ]
          },
          "metadata": {},
          "execution_count": 23
        },
        {
          "output_type": "display_data",
          "data": {
            "image/png": "[encoded data removed]",
            "text/plain": [
              "<Figure size 432x288 with 2 Axes>"
            ]
          },
          "metadata": {
            "needs_background": "light"
          }
        }
      ],
      "source": [
        "tensor_xtest = torch.FloatTensor(feature_test) \n",
        "\n",
        "predictions = np.round(model(tensor_xtest).squeeze().detach().numpy(), 0)\n",
        "cm = confusion_matrix(target_test, predictions)\n",
        "class_names=[\"benign\", \"malignant\"]\n",
        "disp = ConfusionMatrixDisplay(confusion_matrix=cm, display_labels=class_names)\n",
        "disp.plot()"
      ]
    }
  ],
  "metadata": {
    "kernelspec": {
      "display_name": "Python 3",
      "language": "python",
      "name": "python3"
    },
    "language_info": {
      "codemirror_mode": {
        "name": "ipython",
        "version": 3
      },
      "file_extension": ".py",
      "mimetype": "text/x-python",
      "name": "python",
      "nbconvert_exporter": "python",
      "pygments_lexer": "ipython3",
      "version": "3.8.3"
    },
    "colab": {
      "name": "Pytorch_nosubclass.ipynb",
      "provenance": [],
      "collapsed_sections": [],
      "include_colab_link": true
    }
  },
  "nbformat": 4,
  "nbformat_minor": 0
}