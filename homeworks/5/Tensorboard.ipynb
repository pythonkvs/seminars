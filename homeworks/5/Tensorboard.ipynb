{
  "nbformat": 4,
  "nbformat_minor": 0,
  "metadata": {
    "colab": {
      "name": "Tensorboard.ipynb",
      "provenance": [],
      "collapsed_sections": [],
      "authorship_tag": "ABX9TyMiSQPROQp22A78Cfp2pIwJ",
      "include_colab_link": true
    },
    "kernelspec": {
      "name": "python3",
      "display_name": "Python 3"
    },
    "language_info": {
      "name": "python"
    }
  },
  "cells": [
    {
      "cell_type": "markdown",
      "metadata": {
        "id": "view-in-github",
        "colab_type": "text"
      },
      "source": [
        "<a href=\"https://colab.research.google.com/github/pythonkvs/seminars/blob/main/homeworks/5/Tensorboard.ipynb\" target=\"_parent\"><img src=\"https://colab.research.google.com/assets/colab-badge.svg\" alt=\"Open In Colab\"/></a>"
      ]
    },
    {
      "cell_type": "markdown",
      "metadata": {
        "id": "PxMD9N9kMDUZ"
      },
      "source": [
        "# Tensorboard"
      ]
    },
    {
      "cell_type": "markdown",
      "metadata": {
        "id": "m4qWFI9_MI_I"
      },
      "source": [
        "Необходимо написать пример работы с Tensorboard.  \n",
        "\n",
        "Нужно обучить произвольную модель на одной из баз изображений (модель может быть самая простая).  \n",
        "\n",
        "Нужно проварьировать параметры обучения (воспользовавшись Hyperparameter Tuning), выбрать значения параметров, при которых достигается наибольшая точность на тестовой выборке (сами значения точности не так не важны), и обучить модель с этими параметрами.  \n",
        "\n",
        "После чего получить матрицы ошибок для разных эпох.  \n",
        "\n",
        "Дополнительно получить изображение с несколькими примерами из тестовой выборки (в том числе, ошибочно распознаваемыми), где в заголовке каждого примера отразить истинный и предсказанный класс.  \n",
        "\n",
        "Также нужно добавить профилирование и создать ссылку на результаты с помощью TensorBoard.dev.\n",
        "\n",
        "Предполагается создание дополнительных вкладок IMAGES, HPARAMS, PROFILE, где и нужно отразить результаты исследований (например, изображения из базы, матрицы ошибок), как это сделано в примерах из документации (не все вкладки получится отразить в TensorBoard.dev, но они должны быть в файле google colab).\n",
        "\n",
        "Необходимо прислать ссылку на блокнот google colab notebook и ссылку на TensorBoard.dev. Можно разделить исследование на части.\n",
        "\n",
        "Материалы:  \n",
        "https://www.tensorflow.org/tensorboard/get_started  \n",
        "https://www.tensorflow.org/tensorboard/image_summaries  \n",
        "https://www.tensorflow.org/tensorboard/hyperparameter_tuning_with_hparams  \n",
        "https://www.tensorflow.org/tensorboard/tensorboard_profiling_keras"
      ]
    }
  ]
}
